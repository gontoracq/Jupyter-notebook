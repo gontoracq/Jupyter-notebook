{
 "cells": [
  {
   "cell_type": "markdown",
   "metadata": {
    "papermill": {
     "duration": 0.024888,
     "end_time": "2021-02-10T19:09:28.743508",
     "exception": false,
     "start_time": "2021-02-10T19:09:28.718620",
     "status": "completed"
    },
    "tags": []
   },
   "source": [
    "# DIGIT RECOGNIZER USING NEURAL NETWORKS"
   ]
  },
  {
   "cell_type": "markdown",
   "metadata": {
    "papermill": {
     "duration": 0.022852,
     "end_time": "2021-02-10T19:09:28.789764",
     "exception": false,
     "start_time": "2021-02-10T19:09:28.766912",
     "status": "completed"
    },
    "tags": []
   },
   "source": [
    "# 1 Understand the problem and import the more important libraries"
   ]
  },
  {
   "cell_type": "code",
   "execution_count": 1,
   "metadata": {
    "execution": {
     "iopub.execute_input": "2021-02-10T19:09:28.841275Z",
     "iopub.status.busy": "2021-02-10T19:09:28.840561Z",
     "iopub.status.idle": "2021-02-10T19:09:35.063178Z",
     "shell.execute_reply": "2021-02-10T19:09:35.062340Z"
    },
    "papermill": {
     "duration": 6.250596,
     "end_time": "2021-02-10T19:09:35.063415",
     "exception": false,
     "start_time": "2021-02-10T19:09:28.812819",
     "status": "completed"
    },
    "tags": []
   },
   "outputs": [],
   "source": [
    "import pandas as pd\n",
    "from tensorflow import keras"
   ]
  },
  {
   "cell_type": "markdown",
   "metadata": {
    "papermill": {
     "duration": 0.022605,
     "end_time": "2021-02-10T19:09:35.110278",
     "exception": false,
     "start_time": "2021-02-10T19:09:35.087673",
     "status": "completed"
    },
    "tags": []
   },
   "source": [
    "**Pandas**\n",
    "\n",
    "Fast, powerful, flexible and easy to use open source library, built on top of the Python programming language.\n",
    "\n",
    "**Pandas Dataframe**\n",
    "\n",
    "It's a two-dimensional, size-mutable, potentially heterogeneous tabular data.\n",
    "\n",
    "Data structure also contains labeled axes (rows and columns). Arithmetic operations align on both row and column labels. Can be thought of as a dict-like container for \"array\" objects. Pandas dataframes are based on numpy ndarrays which we should know some about.\n"
   ]
  },
  {
   "cell_type": "code",
   "execution_count": 2,
   "metadata": {
    "execution": {
     "iopub.execute_input": "2021-02-10T19:09:35.164986Z",
     "iopub.status.busy": "2021-02-10T19:09:35.164228Z",
     "iopub.status.idle": "2021-02-10T19:09:39.450667Z",
     "shell.execute_reply": "2021-02-10T19:09:39.450076Z"
    },
    "papermill": {
     "duration": 4.317526,
     "end_time": "2021-02-10T19:09:39.450841",
     "exception": false,
     "start_time": "2021-02-10T19:09:35.133315",
     "status": "completed"
    },
    "scrolled": true,
    "tags": []
   },
   "outputs": [
    {
     "data": {
      "text/html": [
       "<div>\n",
       "<style scoped>\n",
       "    .dataframe tbody tr th:only-of-type {\n",
       "        vertical-align: middle;\n",
       "    }\n",
       "\n",
       "    .dataframe tbody tr th {\n",
       "        vertical-align: top;\n",
       "    }\n",
       "\n",
       "    .dataframe thead th {\n",
       "        text-align: right;\n",
       "    }\n",
       "</style>\n",
       "<table border=\"1\" class=\"dataframe\">\n",
       "  <thead>\n",
       "    <tr style=\"text-align: right;\">\n",
       "      <th></th>\n",
       "      <th>label</th>\n",
       "      <th>pixel0</th>\n",
       "      <th>pixel1</th>\n",
       "      <th>pixel2</th>\n",
       "      <th>pixel3</th>\n",
       "      <th>pixel4</th>\n",
       "      <th>pixel5</th>\n",
       "      <th>pixel6</th>\n",
       "      <th>pixel7</th>\n",
       "      <th>pixel8</th>\n",
       "      <th>...</th>\n",
       "      <th>pixel774</th>\n",
       "      <th>pixel775</th>\n",
       "      <th>pixel776</th>\n",
       "      <th>pixel777</th>\n",
       "      <th>pixel778</th>\n",
       "      <th>pixel779</th>\n",
       "      <th>pixel780</th>\n",
       "      <th>pixel781</th>\n",
       "      <th>pixel782</th>\n",
       "      <th>pixel783</th>\n",
       "    </tr>\n",
       "  </thead>\n",
       "  <tbody>\n",
       "    <tr>\n",
       "      <th>41995</th>\n",
       "      <td>0</td>\n",
       "      <td>0</td>\n",
       "      <td>0</td>\n",
       "      <td>0</td>\n",
       "      <td>0</td>\n",
       "      <td>0</td>\n",
       "      <td>0</td>\n",
       "      <td>0</td>\n",
       "      <td>0</td>\n",
       "      <td>0</td>\n",
       "      <td>...</td>\n",
       "      <td>0</td>\n",
       "      <td>0</td>\n",
       "      <td>0</td>\n",
       "      <td>0</td>\n",
       "      <td>0</td>\n",
       "      <td>0</td>\n",
       "      <td>0</td>\n",
       "      <td>0</td>\n",
       "      <td>0</td>\n",
       "      <td>0</td>\n",
       "    </tr>\n",
       "    <tr>\n",
       "      <th>41996</th>\n",
       "      <td>1</td>\n",
       "      <td>0</td>\n",
       "      <td>0</td>\n",
       "      <td>0</td>\n",
       "      <td>0</td>\n",
       "      <td>0</td>\n",
       "      <td>0</td>\n",
       "      <td>0</td>\n",
       "      <td>0</td>\n",
       "      <td>0</td>\n",
       "      <td>...</td>\n",
       "      <td>0</td>\n",
       "      <td>0</td>\n",
       "      <td>0</td>\n",
       "      <td>0</td>\n",
       "      <td>0</td>\n",
       "      <td>0</td>\n",
       "      <td>0</td>\n",
       "      <td>0</td>\n",
       "      <td>0</td>\n",
       "      <td>0</td>\n",
       "    </tr>\n",
       "    <tr>\n",
       "      <th>41997</th>\n",
       "      <td>7</td>\n",
       "      <td>0</td>\n",
       "      <td>0</td>\n",
       "      <td>0</td>\n",
       "      <td>0</td>\n",
       "      <td>0</td>\n",
       "      <td>0</td>\n",
       "      <td>0</td>\n",
       "      <td>0</td>\n",
       "      <td>0</td>\n",
       "      <td>...</td>\n",
       "      <td>0</td>\n",
       "      <td>0</td>\n",
       "      <td>0</td>\n",
       "      <td>0</td>\n",
       "      <td>0</td>\n",
       "      <td>0</td>\n",
       "      <td>0</td>\n",
       "      <td>0</td>\n",
       "      <td>0</td>\n",
       "      <td>0</td>\n",
       "    </tr>\n",
       "    <tr>\n",
       "      <th>41998</th>\n",
       "      <td>6</td>\n",
       "      <td>0</td>\n",
       "      <td>0</td>\n",
       "      <td>0</td>\n",
       "      <td>0</td>\n",
       "      <td>0</td>\n",
       "      <td>0</td>\n",
       "      <td>0</td>\n",
       "      <td>0</td>\n",
       "      <td>0</td>\n",
       "      <td>...</td>\n",
       "      <td>0</td>\n",
       "      <td>0</td>\n",
       "      <td>0</td>\n",
       "      <td>0</td>\n",
       "      <td>0</td>\n",
       "      <td>0</td>\n",
       "      <td>0</td>\n",
       "      <td>0</td>\n",
       "      <td>0</td>\n",
       "      <td>0</td>\n",
       "    </tr>\n",
       "    <tr>\n",
       "      <th>41999</th>\n",
       "      <td>9</td>\n",
       "      <td>0</td>\n",
       "      <td>0</td>\n",
       "      <td>0</td>\n",
       "      <td>0</td>\n",
       "      <td>0</td>\n",
       "      <td>0</td>\n",
       "      <td>0</td>\n",
       "      <td>0</td>\n",
       "      <td>0</td>\n",
       "      <td>...</td>\n",
       "      <td>0</td>\n",
       "      <td>0</td>\n",
       "      <td>0</td>\n",
       "      <td>0</td>\n",
       "      <td>0</td>\n",
       "      <td>0</td>\n",
       "      <td>0</td>\n",
       "      <td>0</td>\n",
       "      <td>0</td>\n",
       "      <td>0</td>\n",
       "    </tr>\n",
       "  </tbody>\n",
       "</table>\n",
       "<p>5 rows × 785 columns</p>\n",
       "</div>"
      ],
      "text/plain": [
       "       label  pixel0  pixel1  pixel2  pixel3  pixel4  pixel5  pixel6  pixel7  \\\n",
       "41995      0       0       0       0       0       0       0       0       0   \n",
       "41996      1       0       0       0       0       0       0       0       0   \n",
       "41997      7       0       0       0       0       0       0       0       0   \n",
       "41998      6       0       0       0       0       0       0       0       0   \n",
       "41999      9       0       0       0       0       0       0       0       0   \n",
       "\n",
       "       pixel8  ...  pixel774  pixel775  pixel776  pixel777  pixel778  \\\n",
       "41995       0  ...         0         0         0         0         0   \n",
       "41996       0  ...         0         0         0         0         0   \n",
       "41997       0  ...         0         0         0         0         0   \n",
       "41998       0  ...         0         0         0         0         0   \n",
       "41999       0  ...         0         0         0         0         0   \n",
       "\n",
       "       pixel779  pixel780  pixel781  pixel782  pixel783  \n",
       "41995         0         0         0         0         0  \n",
       "41996         0         0         0         0         0  \n",
       "41997         0         0         0         0         0  \n",
       "41998         0         0         0         0         0  \n",
       "41999         0         0         0         0         0  \n",
       "\n",
       "[5 rows x 785 columns]"
      ]
     },
     "execution_count": 2,
     "metadata": {},
     "output_type": "execute_result"
    }
   ],
   "source": [
    "#PUT THE CSV DATA INTO A PANDAS DATAFRAME\n",
    "digits_train = pd.read_csv('../input/digit-recognizer/train.csv')\n",
    "digits_train.tail()"
   ]
  },
  {
   "cell_type": "code",
   "execution_count": 3,
   "metadata": {
    "execution": {
     "iopub.execute_input": "2021-02-10T19:09:39.505413Z",
     "iopub.status.busy": "2021-02-10T19:09:39.504411Z",
     "iopub.status.idle": "2021-02-10T19:09:39.508366Z",
     "shell.execute_reply": "2021-02-10T19:09:39.507818Z"
    },
    "papermill": {
     "duration": 0.033428,
     "end_time": "2021-02-10T19:09:39.508528",
     "exception": false,
     "start_time": "2021-02-10T19:09:39.475100",
     "status": "completed"
    },
    "tags": []
   },
   "outputs": [],
   "source": [
    "import numpy as np\n",
    "import matplotlib.pyplot as pt"
   ]
  },
  {
   "cell_type": "code",
   "execution_count": 4,
   "metadata": {
    "execution": {
     "iopub.execute_input": "2021-02-10T19:09:39.560943Z",
     "iopub.status.busy": "2021-02-10T19:09:39.560109Z",
     "iopub.status.idle": "2021-02-10T19:09:39.566871Z",
     "shell.execute_reply": "2021-02-10T19:09:39.566237Z"
    },
    "papermill": {
     "duration": 0.034173,
     "end_time": "2021-02-10T19:09:39.567040",
     "exception": false,
     "start_time": "2021-02-10T19:09:39.532867",
     "status": "completed"
    },
    "tags": []
   },
   "outputs": [
    {
     "data": {
      "text/plain": [
       "(42000, 785)"
      ]
     },
     "execution_count": 4,
     "metadata": {},
     "output_type": "execute_result"
    }
   ],
   "source": [
    "digits_train.shape"
   ]
  },
  {
   "cell_type": "code",
   "execution_count": 5,
   "metadata": {
    "execution": {
     "iopub.execute_input": "2021-02-10T19:09:39.625031Z",
     "iopub.status.busy": "2021-02-10T19:09:39.623938Z",
     "iopub.status.idle": "2021-02-10T19:09:39.629051Z",
     "shell.execute_reply": "2021-02-10T19:09:39.629535Z"
    },
    "papermill": {
     "duration": 0.037664,
     "end_time": "2021-02-10T19:09:39.629773",
     "exception": false,
     "start_time": "2021-02-10T19:09:39.592109",
     "status": "completed"
    },
    "tags": []
   },
   "outputs": [
    {
     "data": {
      "text/plain": [
       "0        1\n",
       "1        0\n",
       "2        1\n",
       "3        4\n",
       "4        0\n",
       "        ..\n",
       "41995    0\n",
       "41996    1\n",
       "41997    7\n",
       "41998    6\n",
       "41999    9\n",
       "Name: label, Length: 42000, dtype: int64"
      ]
     },
     "execution_count": 5,
     "metadata": {},
     "output_type": "execute_result"
    }
   ],
   "source": [
    "digits_train[\"label\"]"
   ]
  },
  {
   "cell_type": "markdown",
   "metadata": {
    "papermill": {
     "duration": 0.025213,
     "end_time": "2021-02-10T19:09:39.680357",
     "exception": false,
     "start_time": "2021-02-10T19:09:39.655144",
     "status": "completed"
    },
    "tags": []
   },
   "source": [
    "# 2 Data Preparation"
   ]
  },
  {
   "cell_type": "code",
   "execution_count": 6,
   "metadata": {
    "execution": {
     "iopub.execute_input": "2021-02-10T19:09:39.737363Z",
     "iopub.status.busy": "2021-02-10T19:09:39.736411Z",
     "iopub.status.idle": "2021-02-10T19:09:40.657211Z",
     "shell.execute_reply": "2021-02-10T19:09:40.657699Z"
    },
    "papermill": {
     "duration": 0.952446,
     "end_time": "2021-02-10T19:09:40.657992",
     "exception": false,
     "start_time": "2021-02-10T19:09:39.705546",
     "status": "completed"
    },
    "tags": []
   },
   "outputs": [
    {
     "name": "stderr",
     "output_type": "stream",
     "text": [
      "/opt/conda/lib/python3.7/site-packages/seaborn/_decorators.py:43: FutureWarning: Pass the following variable as a keyword arg: x. From version 0.12, the only valid positional argument will be `data`, and passing other arguments without an explicit keyword will result in an error or misinterpretation.\n",
      "  FutureWarning\n"
     ]
    },
    {
     "data": {
      "text/plain": [
       "5    3795\n",
       "8    4063\n",
       "4    4072\n",
       "0    4132\n",
       "6    4137\n",
       "2    4177\n",
       "9    4188\n",
       "3    4351\n",
       "7    4401\n",
       "1    4684\n",
       "Name: label, dtype: int64"
      ]
     },
     "execution_count": 6,
     "metadata": {},
     "output_type": "execute_result"
    },
    {
     "data": {
      "image/png": "[encoded data removed]",
      "text/plain": [
       "<Figure size 432x288 with 1 Axes>"
      ]
     },
     "metadata": {
      "needs_background": "light"
     },
     "output_type": "display_data"
    }
   ],
   "source": [
    "import seaborn as sns\n",
    "\n",
    "Y_train = digits_train[\"label\"]\n",
    "X_train = digits_train.drop(labels = \"label\", axis = 1)\n",
    "\n",
    "g = sns.countplot(Y_train)\n",
    "\n",
    "Y_train.value_counts().sort_values(ascending=True)"
   ]
  },
  {
   "cell_type": "markdown",
   "metadata": {
    "papermill": {
     "duration": 0.025923,
     "end_time": "2021-02-10T19:09:40.710386",
     "exception": false,
     "start_time": "2021-02-10T19:09:40.684463",
     "status": "completed"
    },
    "tags": []
   },
   "source": [
    "We can see how is the proportion of the numbers \"label\" we have in our dataset. When we train the model it would be easier to recognize a 1 than a 5 due to a bigger training subset of data to learn."
   ]
  },
  {
   "cell_type": "markdown",
   "metadata": {
    "papermill": {
     "duration": 0.026442,
     "end_time": "2021-02-10T19:09:40.764237",
     "exception": false,
     "start_time": "2021-02-10T19:09:40.737795",
     "status": "completed"
    },
    "tags": []
   },
   "source": [
    "# 2.1 Cleaning"
   ]
  },
  {
   "cell_type": "code",
   "execution_count": 7,
   "metadata": {
    "execution": {
     "iopub.execute_input": "2021-02-10T19:09:40.822437Z",
     "iopub.status.busy": "2021-02-10T19:09:40.821808Z",
     "iopub.status.idle": "2021-02-10T19:09:40.860032Z",
     "shell.execute_reply": "2021-02-10T19:09:40.860581Z"
    },
    "papermill": {
     "duration": 0.068668,
     "end_time": "2021-02-10T19:09:40.860801",
     "exception": false,
     "start_time": "2021-02-10T19:09:40.792133",
     "status": "completed"
    },
    "tags": []
   },
   "outputs": [
    {
     "data": {
      "text/plain": [
       "count       784\n",
       "unique        1\n",
       "top       False\n",
       "freq        784\n",
       "dtype: object"
      ]
     },
     "execution_count": 7,
     "metadata": {},
     "output_type": "execute_result"
    }
   ],
   "source": [
    "X_train.isnull().any().describe()"
   ]
  },
  {
   "cell_type": "code",
   "execution_count": 8,
   "metadata": {
    "execution": {
     "iopub.execute_input": "2021-02-10T19:09:40.918855Z",
     "iopub.status.busy": "2021-02-10T19:09:40.918154Z",
     "iopub.status.idle": "2021-02-10T19:09:43.415038Z",
     "shell.execute_reply": "2021-02-10T19:09:43.414269Z"
    },
    "papermill": {
     "duration": 2.526929,
     "end_time": "2021-02-10T19:09:43.415204",
     "exception": false,
     "start_time": "2021-02-10T19:09:40.888275",
     "status": "completed"
    },
    "tags": []
   },
   "outputs": [
    {
     "data": {
      "text/plain": [
       "count       784\n",
       "unique        1\n",
       "top       False\n",
       "freq        784\n",
       "dtype: object"
      ]
     },
     "execution_count": 8,
     "metadata": {},
     "output_type": "execute_result"
    }
   ],
   "source": [
    "test = pd.read_csv('../input/digit-recognizer/test.csv')\n",
    "\n",
    "test.isnull().any().describe()"
   ]
  },
  {
   "cell_type": "markdown",
   "metadata": {
    "papermill": {
     "duration": 0.027382,
     "end_time": "2021-02-10T19:09:43.471245",
     "exception": false,
     "start_time": "2021-02-10T19:09:43.443863",
     "status": "completed"
    },
    "tags": []
   },
   "source": [
    "# 2.2 Normalization"
   ]
  },
  {
   "cell_type": "markdown",
   "metadata": {
    "papermill": {
     "duration": 0.027145,
     "end_time": "2021-02-10T19:09:43.525968",
     "exception": false,
     "start_time": "2021-02-10T19:09:43.498823",
     "status": "completed"
    },
    "tags": []
   },
   "source": [
    "Moreover de CNN converge faster on [0,1] data than on [0,255]"
   ]
  },
  {
   "cell_type": "code",
   "execution_count": 9,
   "metadata": {
    "execution": {
     "iopub.execute_input": "2021-02-10T19:09:43.589120Z",
     "iopub.status.busy": "2021-02-10T19:09:43.588057Z",
     "iopub.status.idle": "2021-02-10T19:09:43.726144Z",
     "shell.execute_reply": "2021-02-10T19:09:43.726867Z"
    },
    "papermill": {
     "duration": 0.173054,
     "end_time": "2021-02-10T19:09:43.727063",
     "exception": false,
     "start_time": "2021-02-10T19:09:43.554009",
     "status": "completed"
    },
    "tags": []
   },
   "outputs": [],
   "source": [
    "#test = test.drop(labels = \"label\", axis = 1)\n",
    "\n",
    "#Normalize the data\n",
    "X_train = X_train / 255\n",
    "test = test / 255"
   ]
  },
  {
   "cell_type": "code",
   "execution_count": 10,
   "metadata": {
    "execution": {
     "iopub.execute_input": "2021-02-10T19:09:43.788558Z",
     "iopub.status.busy": "2021-02-10T19:09:43.787381Z",
     "iopub.status.idle": "2021-02-10T19:09:43.820511Z",
     "shell.execute_reply": "2021-02-10T19:09:43.819881Z"
    },
    "papermill": {
     "duration": 0.066095,
     "end_time": "2021-02-10T19:09:43.820670",
     "exception": false,
     "start_time": "2021-02-10T19:09:43.754575",
     "status": "completed"
    },
    "tags": []
   },
   "outputs": [
    {
     "data": {
      "text/plain": [
       "count       784\n",
       "unique        1\n",
       "top       False\n",
       "freq        784\n",
       "dtype: object"
      ]
     },
     "execution_count": 10,
     "metadata": {},
     "output_type": "execute_result"
    }
   ],
   "source": [
    "test.isnull().any().describe()"
   ]
  },
  {
   "cell_type": "code",
   "execution_count": 11,
   "metadata": {
    "execution": {
     "iopub.execute_input": "2021-02-10T19:09:43.894673Z",
     "iopub.status.busy": "2021-02-10T19:09:43.889108Z",
     "iopub.status.idle": "2021-02-10T19:09:43.918190Z",
     "shell.execute_reply": "2021-02-10T19:09:43.917540Z"
    },
    "papermill": {
     "duration": 0.069474,
     "end_time": "2021-02-10T19:09:43.918332",
     "exception": false,
     "start_time": "2021-02-10T19:09:43.848858",
     "status": "completed"
    },
    "tags": []
   },
   "outputs": [
    {
     "data": {
      "text/html": [
       "<div>\n",
       "<style scoped>\n",
       "    .dataframe tbody tr th:only-of-type {\n",
       "        vertical-align: middle;\n",
       "    }\n",
       "\n",
       "    .dataframe tbody tr th {\n",
       "        vertical-align: top;\n",
       "    }\n",
       "\n",
       "    .dataframe thead th {\n",
       "        text-align: right;\n",
       "    }\n",
       "</style>\n",
       "<table border=\"1\" class=\"dataframe\">\n",
       "  <thead>\n",
       "    <tr style=\"text-align: right;\">\n",
       "      <th></th>\n",
       "      <th>pixel0</th>\n",
       "      <th>pixel1</th>\n",
       "      <th>pixel2</th>\n",
       "      <th>pixel3</th>\n",
       "      <th>pixel4</th>\n",
       "      <th>pixel5</th>\n",
       "      <th>pixel6</th>\n",
       "      <th>pixel7</th>\n",
       "      <th>pixel8</th>\n",
       "      <th>pixel9</th>\n",
       "      <th>...</th>\n",
       "      <th>pixel774</th>\n",
       "      <th>pixel775</th>\n",
       "      <th>pixel776</th>\n",
       "      <th>pixel777</th>\n",
       "      <th>pixel778</th>\n",
       "      <th>pixel779</th>\n",
       "      <th>pixel780</th>\n",
       "      <th>pixel781</th>\n",
       "      <th>pixel782</th>\n",
       "      <th>pixel783</th>\n",
       "    </tr>\n",
       "  </thead>\n",
       "  <tbody>\n",
       "    <tr>\n",
       "      <th>0</th>\n",
       "      <td>0.0</td>\n",
       "      <td>0.0</td>\n",
       "      <td>0.0</td>\n",
       "      <td>0.0</td>\n",
       "      <td>0.0</td>\n",
       "      <td>0.0</td>\n",
       "      <td>0.0</td>\n",
       "      <td>0.0</td>\n",
       "      <td>0.0</td>\n",
       "      <td>0.0</td>\n",
       "      <td>...</td>\n",
       "      <td>0.0</td>\n",
       "      <td>0.0</td>\n",
       "      <td>0.0</td>\n",
       "      <td>0.0</td>\n",
       "      <td>0.0</td>\n",
       "      <td>0.0</td>\n",
       "      <td>0.0</td>\n",
       "      <td>0.0</td>\n",
       "      <td>0.0</td>\n",
       "      <td>0.0</td>\n",
       "    </tr>\n",
       "    <tr>\n",
       "      <th>1</th>\n",
       "      <td>0.0</td>\n",
       "      <td>0.0</td>\n",
       "      <td>0.0</td>\n",
       "      <td>0.0</td>\n",
       "      <td>0.0</td>\n",
       "      <td>0.0</td>\n",
       "      <td>0.0</td>\n",
       "      <td>0.0</td>\n",
       "      <td>0.0</td>\n",
       "      <td>0.0</td>\n",
       "      <td>...</td>\n",
       "      <td>0.0</td>\n",
       "      <td>0.0</td>\n",
       "      <td>0.0</td>\n",
       "      <td>0.0</td>\n",
       "      <td>0.0</td>\n",
       "      <td>0.0</td>\n",
       "      <td>0.0</td>\n",
       "      <td>0.0</td>\n",
       "      <td>0.0</td>\n",
       "      <td>0.0</td>\n",
       "    </tr>\n",
       "    <tr>\n",
       "      <th>2</th>\n",
       "      <td>0.0</td>\n",
       "      <td>0.0</td>\n",
       "      <td>0.0</td>\n",
       "      <td>0.0</td>\n",
       "      <td>0.0</td>\n",
       "      <td>0.0</td>\n",
       "      <td>0.0</td>\n",
       "      <td>0.0</td>\n",
       "      <td>0.0</td>\n",
       "      <td>0.0</td>\n",
       "      <td>...</td>\n",
       "      <td>0.0</td>\n",
       "      <td>0.0</td>\n",
       "      <td>0.0</td>\n",
       "      <td>0.0</td>\n",
       "      <td>0.0</td>\n",
       "      <td>0.0</td>\n",
       "      <td>0.0</td>\n",
       "      <td>0.0</td>\n",
       "      <td>0.0</td>\n",
       "      <td>0.0</td>\n",
       "    </tr>\n",
       "    <tr>\n",
       "      <th>3</th>\n",
       "      <td>0.0</td>\n",
       "      <td>0.0</td>\n",
       "      <td>0.0</td>\n",
       "      <td>0.0</td>\n",
       "      <td>0.0</td>\n",
       "      <td>0.0</td>\n",
       "      <td>0.0</td>\n",
       "      <td>0.0</td>\n",
       "      <td>0.0</td>\n",
       "      <td>0.0</td>\n",
       "      <td>...</td>\n",
       "      <td>0.0</td>\n",
       "      <td>0.0</td>\n",
       "      <td>0.0</td>\n",
       "      <td>0.0</td>\n",
       "      <td>0.0</td>\n",
       "      <td>0.0</td>\n",
       "      <td>0.0</td>\n",
       "      <td>0.0</td>\n",
       "      <td>0.0</td>\n",
       "      <td>0.0</td>\n",
       "    </tr>\n",
       "    <tr>\n",
       "      <th>4</th>\n",
       "      <td>0.0</td>\n",
       "      <td>0.0</td>\n",
       "      <td>0.0</td>\n",
       "      <td>0.0</td>\n",
       "      <td>0.0</td>\n",
       "      <td>0.0</td>\n",
       "      <td>0.0</td>\n",
       "      <td>0.0</td>\n",
       "      <td>0.0</td>\n",
       "      <td>0.0</td>\n",
       "      <td>...</td>\n",
       "      <td>0.0</td>\n",
       "      <td>0.0</td>\n",
       "      <td>0.0</td>\n",
       "      <td>0.0</td>\n",
       "      <td>0.0</td>\n",
       "      <td>0.0</td>\n",
       "      <td>0.0</td>\n",
       "      <td>0.0</td>\n",
       "      <td>0.0</td>\n",
       "      <td>0.0</td>\n",
       "    </tr>\n",
       "  </tbody>\n",
       "</table>\n",
       "<p>5 rows × 784 columns</p>\n",
       "</div>"
      ],
      "text/plain": [
       "   pixel0  pixel1  pixel2  pixel3  pixel4  pixel5  pixel6  pixel7  pixel8  \\\n",
       "0     0.0     0.0     0.0     0.0     0.0     0.0     0.0     0.0     0.0   \n",
       "1     0.0     0.0     0.0     0.0     0.0     0.0     0.0     0.0     0.0   \n",
       "2     0.0     0.0     0.0     0.0     0.0     0.0     0.0     0.0     0.0   \n",
       "3     0.0     0.0     0.0     0.0     0.0     0.0     0.0     0.0     0.0   \n",
       "4     0.0     0.0     0.0     0.0     0.0     0.0     0.0     0.0     0.0   \n",
       "\n",
       "   pixel9  ...  pixel774  pixel775  pixel776  pixel777  pixel778  pixel779  \\\n",
       "0     0.0  ...       0.0       0.0       0.0       0.0       0.0       0.0   \n",
       "1     0.0  ...       0.0       0.0       0.0       0.0       0.0       0.0   \n",
       "2     0.0  ...       0.0       0.0       0.0       0.0       0.0       0.0   \n",
       "3     0.0  ...       0.0       0.0       0.0       0.0       0.0       0.0   \n",
       "4     0.0  ...       0.0       0.0       0.0       0.0       0.0       0.0   \n",
       "\n",
       "   pixel780  pixel781  pixel782  pixel783  \n",
       "0       0.0       0.0       0.0       0.0  \n",
       "1       0.0       0.0       0.0       0.0  \n",
       "2       0.0       0.0       0.0       0.0  \n",
       "3       0.0       0.0       0.0       0.0  \n",
       "4       0.0       0.0       0.0       0.0  \n",
       "\n",
       "[5 rows x 784 columns]"
      ]
     },
     "execution_count": 11,
     "metadata": {},
     "output_type": "execute_result"
    }
   ],
   "source": [
    "#TRAIN DATA\n",
    "X_train.head()\n"
   ]
  },
  {
   "cell_type": "code",
   "execution_count": 12,
   "metadata": {
    "execution": {
     "iopub.execute_input": "2021-02-10T19:09:43.995241Z",
     "iopub.status.busy": "2021-02-10T19:09:43.992985Z",
     "iopub.status.idle": "2021-02-10T19:09:44.017053Z",
     "shell.execute_reply": "2021-02-10T19:09:44.017557Z"
    },
    "papermill": {
     "duration": 0.070212,
     "end_time": "2021-02-10T19:09:44.017791",
     "exception": false,
     "start_time": "2021-02-10T19:09:43.947579",
     "status": "completed"
    },
    "tags": []
   },
   "outputs": [
    {
     "data": {
      "text/html": [
       "<div>\n",
       "<style scoped>\n",
       "    .dataframe tbody tr th:only-of-type {\n",
       "        vertical-align: middle;\n",
       "    }\n",
       "\n",
       "    .dataframe tbody tr th {\n",
       "        vertical-align: top;\n",
       "    }\n",
       "\n",
       "    .dataframe thead th {\n",
       "        text-align: right;\n",
       "    }\n",
       "</style>\n",
       "<table border=\"1\" class=\"dataframe\">\n",
       "  <thead>\n",
       "    <tr style=\"text-align: right;\">\n",
       "      <th></th>\n",
       "      <th>pixel0</th>\n",
       "      <th>pixel1</th>\n",
       "      <th>pixel2</th>\n",
       "      <th>pixel3</th>\n",
       "      <th>pixel4</th>\n",
       "      <th>pixel5</th>\n",
       "      <th>pixel6</th>\n",
       "      <th>pixel7</th>\n",
       "      <th>pixel8</th>\n",
       "      <th>pixel9</th>\n",
       "      <th>...</th>\n",
       "      <th>pixel774</th>\n",
       "      <th>pixel775</th>\n",
       "      <th>pixel776</th>\n",
       "      <th>pixel777</th>\n",
       "      <th>pixel778</th>\n",
       "      <th>pixel779</th>\n",
       "      <th>pixel780</th>\n",
       "      <th>pixel781</th>\n",
       "      <th>pixel782</th>\n",
       "      <th>pixel783</th>\n",
       "    </tr>\n",
       "  </thead>\n",
       "  <tbody>\n",
       "    <tr>\n",
       "      <th>0</th>\n",
       "      <td>0.0</td>\n",
       "      <td>0.0</td>\n",
       "      <td>0.0</td>\n",
       "      <td>0.0</td>\n",
       "      <td>0.0</td>\n",
       "      <td>0.0</td>\n",
       "      <td>0.0</td>\n",
       "      <td>0.0</td>\n",
       "      <td>0.0</td>\n",
       "      <td>0.0</td>\n",
       "      <td>...</td>\n",
       "      <td>0.0</td>\n",
       "      <td>0.0</td>\n",
       "      <td>0.0</td>\n",
       "      <td>0.0</td>\n",
       "      <td>0.0</td>\n",
       "      <td>0.0</td>\n",
       "      <td>0.0</td>\n",
       "      <td>0.0</td>\n",
       "      <td>0.0</td>\n",
       "      <td>0.0</td>\n",
       "    </tr>\n",
       "    <tr>\n",
       "      <th>1</th>\n",
       "      <td>0.0</td>\n",
       "      <td>0.0</td>\n",
       "      <td>0.0</td>\n",
       "      <td>0.0</td>\n",
       "      <td>0.0</td>\n",
       "      <td>0.0</td>\n",
       "      <td>0.0</td>\n",
       "      <td>0.0</td>\n",
       "      <td>0.0</td>\n",
       "      <td>0.0</td>\n",
       "      <td>...</td>\n",
       "      <td>0.0</td>\n",
       "      <td>0.0</td>\n",
       "      <td>0.0</td>\n",
       "      <td>0.0</td>\n",
       "      <td>0.0</td>\n",
       "      <td>0.0</td>\n",
       "      <td>0.0</td>\n",
       "      <td>0.0</td>\n",
       "      <td>0.0</td>\n",
       "      <td>0.0</td>\n",
       "    </tr>\n",
       "    <tr>\n",
       "      <th>2</th>\n",
       "      <td>0.0</td>\n",
       "      <td>0.0</td>\n",
       "      <td>0.0</td>\n",
       "      <td>0.0</td>\n",
       "      <td>0.0</td>\n",
       "      <td>0.0</td>\n",
       "      <td>0.0</td>\n",
       "      <td>0.0</td>\n",
       "      <td>0.0</td>\n",
       "      <td>0.0</td>\n",
       "      <td>...</td>\n",
       "      <td>0.0</td>\n",
       "      <td>0.0</td>\n",
       "      <td>0.0</td>\n",
       "      <td>0.0</td>\n",
       "      <td>0.0</td>\n",
       "      <td>0.0</td>\n",
       "      <td>0.0</td>\n",
       "      <td>0.0</td>\n",
       "      <td>0.0</td>\n",
       "      <td>0.0</td>\n",
       "    </tr>\n",
       "    <tr>\n",
       "      <th>3</th>\n",
       "      <td>0.0</td>\n",
       "      <td>0.0</td>\n",
       "      <td>0.0</td>\n",
       "      <td>0.0</td>\n",
       "      <td>0.0</td>\n",
       "      <td>0.0</td>\n",
       "      <td>0.0</td>\n",
       "      <td>0.0</td>\n",
       "      <td>0.0</td>\n",
       "      <td>0.0</td>\n",
       "      <td>...</td>\n",
       "      <td>0.0</td>\n",
       "      <td>0.0</td>\n",
       "      <td>0.0</td>\n",
       "      <td>0.0</td>\n",
       "      <td>0.0</td>\n",
       "      <td>0.0</td>\n",
       "      <td>0.0</td>\n",
       "      <td>0.0</td>\n",
       "      <td>0.0</td>\n",
       "      <td>0.0</td>\n",
       "    </tr>\n",
       "    <tr>\n",
       "      <th>4</th>\n",
       "      <td>0.0</td>\n",
       "      <td>0.0</td>\n",
       "      <td>0.0</td>\n",
       "      <td>0.0</td>\n",
       "      <td>0.0</td>\n",
       "      <td>0.0</td>\n",
       "      <td>0.0</td>\n",
       "      <td>0.0</td>\n",
       "      <td>0.0</td>\n",
       "      <td>0.0</td>\n",
       "      <td>...</td>\n",
       "      <td>0.0</td>\n",
       "      <td>0.0</td>\n",
       "      <td>0.0</td>\n",
       "      <td>0.0</td>\n",
       "      <td>0.0</td>\n",
       "      <td>0.0</td>\n",
       "      <td>0.0</td>\n",
       "      <td>0.0</td>\n",
       "      <td>0.0</td>\n",
       "      <td>0.0</td>\n",
       "    </tr>\n",
       "  </tbody>\n",
       "</table>\n",
       "<p>5 rows × 784 columns</p>\n",
       "</div>"
      ],
      "text/plain": [
       "   pixel0  pixel1  pixel2  pixel3  pixel4  pixel5  pixel6  pixel7  pixel8  \\\n",
       "0     0.0     0.0     0.0     0.0     0.0     0.0     0.0     0.0     0.0   \n",
       "1     0.0     0.0     0.0     0.0     0.0     0.0     0.0     0.0     0.0   \n",
       "2     0.0     0.0     0.0     0.0     0.0     0.0     0.0     0.0     0.0   \n",
       "3     0.0     0.0     0.0     0.0     0.0     0.0     0.0     0.0     0.0   \n",
       "4     0.0     0.0     0.0     0.0     0.0     0.0     0.0     0.0     0.0   \n",
       "\n",
       "   pixel9  ...  pixel774  pixel775  pixel776  pixel777  pixel778  pixel779  \\\n",
       "0     0.0  ...       0.0       0.0       0.0       0.0       0.0       0.0   \n",
       "1     0.0  ...       0.0       0.0       0.0       0.0       0.0       0.0   \n",
       "2     0.0  ...       0.0       0.0       0.0       0.0       0.0       0.0   \n",
       "3     0.0  ...       0.0       0.0       0.0       0.0       0.0       0.0   \n",
       "4     0.0  ...       0.0       0.0       0.0       0.0       0.0       0.0   \n",
       "\n",
       "   pixel780  pixel781  pixel782  pixel783  \n",
       "0       0.0       0.0       0.0       0.0  \n",
       "1       0.0       0.0       0.0       0.0  \n",
       "2       0.0       0.0       0.0       0.0  \n",
       "3       0.0       0.0       0.0       0.0  \n",
       "4       0.0       0.0       0.0       0.0  \n",
       "\n",
       "[5 rows x 784 columns]"
      ]
     },
     "execution_count": 12,
     "metadata": {},
     "output_type": "execute_result"
    }
   ],
   "source": [
    "#TEST DATA\n",
    "test.head()"
   ]
  },
  {
   "cell_type": "markdown",
   "metadata": {
    "papermill": {
     "duration": 0.030126,
     "end_time": "2021-02-10T19:09:44.077571",
     "exception": false,
     "start_time": "2021-02-10T19:09:44.047445",
     "status": "completed"
    },
    "tags": []
   },
   "source": [
    "# 2.3 Reshape Data"
   ]
  },
  {
   "cell_type": "code",
   "execution_count": 13,
   "metadata": {
    "collapsed": true,
    "execution": {
     "iopub.execute_input": "2021-02-10T19:09:44.143349Z",
     "iopub.status.busy": "2021-02-10T19:09:44.142674Z",
     "iopub.status.idle": "2021-02-10T19:09:44.145903Z",
     "shell.execute_reply": "2021-02-10T19:09:44.145234Z"
    },
    "papermill": {
     "duration": 0.038497,
     "end_time": "2021-02-10T19:09:44.146068",
     "exception": false,
     "start_time": "2021-02-10T19:09:44.107571",
     "status": "completed"
    },
    "tags": []
   },
   "outputs": [],
   "source": [
    "#Reshape images into 3D matrices\n",
    "X_train = X_train.values.reshape(-1,28,28,1)\n",
    "test = test.values.reshape(-1,28,28,1)"
   ]
  },
  {
   "cell_type": "markdown",
   "metadata": {
    "papermill": {
     "duration": 0.029519,
     "end_time": "2021-02-10T19:09:44.205192",
     "exception": false,
     "start_time": "2021-02-10T19:09:44.175673",
     "status": "completed"
    },
    "tags": []
   },
   "source": [
    "Keras requieres an extra parameter at the end to define channels. We use only one due to gray scale image. If we were working with RGB we may use 3."
   ]
  },
  {
   "cell_type": "markdown",
   "metadata": {
    "papermill": {
     "duration": 0.029117,
     "end_time": "2021-02-10T19:09:44.263936",
     "exception": false,
     "start_time": "2021-02-10T19:09:44.234819",
     "status": "completed"
    },
    "tags": []
   },
   "source": [
    "# 2.4 Label Encoding"
   ]
  },
  {
   "cell_type": "markdown",
   "metadata": {
    "papermill": {
     "duration": 0.029484,
     "end_time": "2021-02-10T19:09:44.323383",
     "exception": false,
     "start_time": "2021-02-10T19:09:44.293899",
     "status": "completed"
    },
    "tags": []
   },
   "source": [
    "One-Hot Encoder\n",
    "\n",
    "Though label encoding is straight but it has the disadvantage that the numeric values can be misinterpreted by algorithms as having some sort of hierarchy/order in them. This ordering issue is addressed in another common alternative approach called ‘One-Hot Encoding’. In this strategy, each category value is converted into a new column and assigned a 1 or 0 (notation for true/false) value to the column.\n"
   ]
  },
  {
   "cell_type": "code",
   "execution_count": 14,
   "metadata": {
    "execution": {
     "iopub.execute_input": "2021-02-10T19:09:44.389974Z",
     "iopub.status.busy": "2021-02-10T19:09:44.389197Z",
     "iopub.status.idle": "2021-02-10T19:09:44.458859Z",
     "shell.execute_reply": "2021-02-10T19:09:44.458129Z"
    },
    "papermill": {
     "duration": 0.104761,
     "end_time": "2021-02-10T19:09:44.459023",
     "exception": false,
     "start_time": "2021-02-10T19:09:44.354262",
     "status": "completed"
    },
    "tags": []
   },
   "outputs": [],
   "source": [
    "import keras\n",
    "import keras.utils\n",
    "from keras.utils import to_categorical\n",
    "#Encode labels to one hot vector. Ex -> 2 = (0,0,1,0,0,0,0,0,0,0)\n",
    "Y_train = to_categorical(Y_train, num_classes = 10)"
   ]
  },
  {
   "cell_type": "markdown",
   "metadata": {
    "papermill": {
     "duration": 0.028871,
     "end_time": "2021-02-10T19:09:44.518274",
     "exception": false,
     "start_time": "2021-02-10T19:09:44.489403",
     "status": "completed"
    },
    "tags": []
   },
   "source": [
    "# 2.5 Split training and validation sets"
   ]
  },
  {
   "cell_type": "code",
   "execution_count": 15,
   "metadata": {
    "execution": {
     "iopub.execute_input": "2021-02-10T19:09:44.582961Z",
     "iopub.status.busy": "2021-02-10T19:09:44.582075Z",
     "iopub.status.idle": "2021-02-10T19:09:45.195961Z",
     "shell.execute_reply": "2021-02-10T19:09:45.195365Z"
    },
    "papermill": {
     "duration": 0.648227,
     "end_time": "2021-02-10T19:09:45.196109",
     "exception": false,
     "start_time": "2021-02-10T19:09:44.547882",
     "status": "completed"
    },
    "tags": []
   },
   "outputs": [],
   "source": [
    "import sklearn\n",
    "from sklearn.model_selection import train_test_split\n",
    "\n",
    "#Set the random seed\n",
    "random_seed = 2\n",
    "\n",
    "#Split the train and validation set for the fitting\n",
    "X_train, X_val, Y_train, Y_val = train_test_split(X_train, Y_train, test_size=0.1, random_state=random_seed)"
   ]
  },
  {
   "cell_type": "markdown",
   "metadata": {
    "papermill": {
     "duration": 0.02946,
     "end_time": "2021-02-10T19:09:45.255235",
     "exception": false,
     "start_time": "2021-02-10T19:09:45.225775",
     "status": "completed"
    },
    "tags": []
   },
   "source": [
    "10% for evaluation, 90% for training"
   ]
  },
  {
   "cell_type": "code",
   "execution_count": 16,
   "metadata": {
    "execution": {
     "iopub.execute_input": "2021-02-10T19:09:45.336988Z",
     "iopub.status.busy": "2021-02-10T19:09:45.321092Z",
     "iopub.status.idle": "2021-02-10T19:09:45.458248Z",
     "shell.execute_reply": "2021-02-10T19:09:45.457559Z"
    },
    "papermill": {
     "duration": 0.17348,
     "end_time": "2021-02-10T19:09:45.458412",
     "exception": false,
     "start_time": "2021-02-10T19:09:45.284932",
     "status": "completed"
    },
    "tags": []
   },
   "outputs": [
    {
     "data": {
      "image/png": "[encoded data removed]",
      "text/plain": [
       "<Figure size 432x288 with 1 Axes>"
      ]
     },
     "metadata": {
      "needs_background": "light"
     },
     "output_type": "display_data"
    }
   ],
   "source": [
    "#some examples\n",
    "g = pt.imshow(X_train[0][:,:,0])"
   ]
  },
  {
   "cell_type": "markdown",
   "metadata": {
    "papermill": {
     "duration": 0.02986,
     "end_time": "2021-02-10T19:09:45.519295",
     "exception": false,
     "start_time": "2021-02-10T19:09:45.489435",
     "status": "completed"
    },
    "tags": []
   },
   "source": [
    "# 3. CNN"
   ]
  },
  {
   "cell_type": "markdown",
   "metadata": {
    "papermill": {
     "duration": 0.029752,
     "end_time": "2021-02-10T19:09:45.579455",
     "exception": false,
     "start_time": "2021-02-10T19:09:45.549703",
     "status": "completed"
    },
    "tags": []
   },
   "source": [
    "# 3.1 Define the model"
   ]
  },
  {
   "cell_type": "code",
   "execution_count": 17,
   "metadata": {
    "execution": {
     "iopub.execute_input": "2021-02-10T19:09:45.649214Z",
     "iopub.status.busy": "2021-02-10T19:09:45.648341Z",
     "iopub.status.idle": "2021-02-10T19:10:34.785904Z",
     "shell.execute_reply": "2021-02-10T19:10:34.785277Z"
    },
    "papermill": {
     "duration": 49.176362,
     "end_time": "2021-02-10T19:10:34.786082",
     "exception": false,
     "start_time": "2021-02-10T19:09:45.609720",
     "status": "completed"
    },
    "tags": []
   },
   "outputs": [
    {
     "name": "stdout",
     "output_type": "stream",
     "text": [
      "Epoch 1/10\n",
      "74/74 [==============================] - 6s 77ms/step - loss: 0.1946 - val_loss: 0.0639\n",
      "Epoch 2/10\n",
      "74/74 [==============================] - 5s 66ms/step - loss: 0.0579 - val_loss: 0.0392\n",
      "Epoch 3/10\n",
      "74/74 [==============================] - 5s 63ms/step - loss: 0.0356 - val_loss: 0.0325\n",
      "Epoch 4/10\n",
      "74/74 [==============================] - 5s 64ms/step - loss: 0.0292 - val_loss: 0.0287\n",
      "Epoch 5/10\n",
      "74/74 [==============================] - 5s 63ms/step - loss: 0.0254 - val_loss: 0.0260\n",
      "Epoch 6/10\n",
      "74/74 [==============================] - 5s 63ms/step - loss: 0.0227 - val_loss: 0.0235\n",
      "Epoch 7/10\n",
      "74/74 [==============================] - 5s 66ms/step - loss: 0.0204 - val_loss: 0.0217\n",
      "Epoch 8/10\n",
      "74/74 [==============================] - 5s 62ms/step - loss: 0.0180 - val_loss: 0.0201\n",
      "Epoch 9/10\n",
      "74/74 [==============================] - 5s 63ms/step - loss: 0.0162 - val_loss: 0.0192\n",
      "Epoch 10/10\n",
      "74/74 [==============================] - 5s 63ms/step - loss: 0.0146 - val_loss: 0.0176\n"
     ]
    },
    {
     "data": {
      "text/plain": [
       "<AxesSubplot:title={'center':'MAE'}>"
      ]
     },
     "execution_count": 17,
     "metadata": {},
     "output_type": "execute_result"
    },
    {
     "data": {
      "image/png": "[encoded data removed]",
      "text/plain": [
       "<Figure size 432x288 with 1 Axes>"
      ]
     },
     "metadata": {
      "needs_background": "light"
     },
     "output_type": "display_data"
    }
   ],
   "source": [
    "#1. Neural Network with 2 hidden layers of 1024 units\n",
    "\n",
    "# - The input shape is a Flatten layer of 28x28 input shape (784)\n",
    "\n",
    "# - We introduce here the mean absolute error or MAE. For each prediction y_pred, MAE measures the disparity from \n",
    "#   the true target y_true by an absolute difference abs(y_true - y_pred)\n",
    "\n",
    "# - We should make a neural network with 10 binary outputs (True, False) depending on what number is it\n",
    "\n",
    "#INMPORTANT INFO: The loss function measures the disparity between the the target's true value and the value the model predicts\n",
    "\n",
    "from sklearn import preprocessing\n",
    "from tensorflow.keras import layers\n",
    "\n",
    "model1 = keras.Sequential([\n",
    "    layers.Flatten(input_shape=(28,28,1)),\n",
    "    layers.Dense(units=1024, activation='relu'),\n",
    "    layers.Dense(units=1024, activation='relu'),\n",
    "    layers.Dense(units=10),\n",
    "])\n",
    "\n",
    "model1.compile(\n",
    "    optimizer='adam',\n",
    "    loss='mae'\n",
    ")\n",
    "\n",
    "history1 = model1.fit(\n",
    "    X_train, Y_train,\n",
    "    validation_data=(X_val, Y_val),\n",
    "    batch_size=512,\n",
    "    epochs=10\n",
    ")\n",
    "\n",
    "history_df = pd.DataFrame(history1.history)\n",
    "history_df.loc[:, ['loss', 'val_loss']].plot(title=\"MAE\")"
   ]
  },
  {
   "cell_type": "markdown",
   "metadata": {
    "papermill": {
     "duration": 0.257067,
     "end_time": "2021-02-10T19:10:35.305261",
     "exception": false,
     "start_time": "2021-02-10T19:10:35.048194",
     "status": "completed"
    },
    "tags": []
   },
   "source": [
    "It's not too bad but we should prevent overfitting because the deviation between the loss function and the validation loss is growing while we are still training our net.\n",
    "\n",
    "We will add Dropout to prevent this in our model.\n",
    "\n"
   ]
  },
  {
   "cell_type": "code",
   "execution_count": 18,
   "metadata": {
    "execution": {
     "iopub.execute_input": "2021-02-10T19:10:35.837305Z",
     "iopub.status.busy": "2021-02-10T19:10:35.829410Z",
     "iopub.status.idle": "2021-02-10T19:11:33.326060Z",
     "shell.execute_reply": "2021-02-10T19:11:33.325399Z"
    },
    "papermill": {
     "duration": 57.763299,
     "end_time": "2021-02-10T19:11:33.326226",
     "exception": false,
     "start_time": "2021-02-10T19:10:35.562927",
     "status": "completed"
    },
    "tags": []
   },
   "outputs": [
    {
     "name": "stdout",
     "output_type": "stream",
     "text": [
      "Epoch 1/10\n",
      "74/74 [==============================] - 6s 79ms/step - loss: 0.2171 - val_loss: 0.0877\n",
      "Epoch 2/10\n",
      "74/74 [==============================] - 6s 75ms/step - loss: 0.0909 - val_loss: 0.0789\n",
      "Epoch 3/10\n",
      "74/74 [==============================] - 6s 79ms/step - loss: 0.0833 - val_loss: 0.0788\n",
      "Epoch 4/10\n",
      "74/74 [==============================] - 6s 75ms/step - loss: 0.0800 - val_loss: 0.0761\n",
      "Epoch 5/10\n",
      "74/74 [==============================] - 6s 75ms/step - loss: 0.0779 - val_loss: 0.0732\n",
      "Epoch 6/10\n",
      "74/74 [==============================] - 6s 78ms/step - loss: 0.0766 - val_loss: 0.0728\n",
      "Epoch 7/10\n",
      "74/74 [==============================] - 6s 74ms/step - loss: 0.0746 - val_loss: 0.0730\n",
      "Epoch 8/10\n",
      "74/74 [==============================] - 6s 76ms/step - loss: 0.0738 - val_loss: 0.0728\n",
      "Epoch 9/10\n",
      "74/74 [==============================] - 6s 78ms/step - loss: 0.0735 - val_loss: 0.0744\n",
      "Epoch 10/10\n",
      "74/74 [==============================] - 6s 75ms/step - loss: 0.0725 - val_loss: 0.0739\n"
     ]
    },
    {
     "data": {
      "text/plain": [
       "<AxesSubplot:title={'center':'MAE'}>"
      ]
     },
     "execution_count": 18,
     "metadata": {},
     "output_type": "execute_result"
    },
    {
     "data": {
      "image/png": "[encoded data removed]",
      "text/plain": [
       "<Figure size 432x288 with 1 Axes>"
      ]
     },
     "metadata": {
      "needs_background": "light"
     },
     "output_type": "display_data"
    }
   ],
   "source": [
    "#2. Neural Network with 2 hidden layers of 1024 units and Dropout\n",
    "\n",
    "\n",
    "model2 = keras.Sequential([\n",
    "    layers.Flatten(input_shape=(28,28,1)),\n",
    "    layers.Dropout(0.3),\n",
    "    layers.Dense(units=1024, activation='relu'),\n",
    "    layers.Dropout(0.3),\n",
    "    layers.Dense(units=1024, activation='relu'),\n",
    "    layers.Dropout(0.3),\n",
    "    layers.Dense(units=10),\n",
    "])\n",
    "\n",
    "model2.compile(\n",
    "    optimizer='adam',\n",
    "    loss='mae'\n",
    ")\n",
    "\n",
    "history2 = model2.fit(\n",
    "    X_train, Y_train,\n",
    "    validation_data=(X_val, Y_val),\n",
    "    batch_size=512,\n",
    "    epochs=10\n",
    ")\n",
    "\n",
    "history_df = pd.DataFrame(history2.history)\n",
    "history_df.loc[:, ['loss', 'val_loss']].plot(title=\"MAE\")"
   ]
  },
  {
   "cell_type": "code",
   "execution_count": 19,
   "metadata": {
    "execution": {
     "iopub.execute_input": "2021-02-10T19:11:34.319035Z",
     "iopub.status.busy": "2021-02-10T19:11:34.315690Z",
     "iopub.status.idle": "2021-02-10T19:12:50.223872Z",
     "shell.execute_reply": "2021-02-10T19:12:50.223243Z"
    },
    "papermill": {
     "duration": 76.4139,
     "end_time": "2021-02-10T19:12:50.224050",
     "exception": false,
     "start_time": "2021-02-10T19:11:33.810150",
     "status": "completed"
    },
    "tags": []
   },
   "outputs": [
    {
     "name": "stdout",
     "output_type": "stream",
     "text": [
      "Epoch 1/10\n",
      "74/74 [==============================] - 8s 103ms/step - loss: 0.7350 - val_loss: 0.1282\n",
      "Epoch 2/10\n",
      "74/74 [==============================] - 7s 100ms/step - loss: 0.2497 - val_loss: 0.1174\n",
      "Epoch 3/10\n",
      "74/74 [==============================] - 8s 103ms/step - loss: 0.1772 - val_loss: 0.1125\n",
      "Epoch 4/10\n",
      "74/74 [==============================] - 8s 102ms/step - loss: 0.1451 - val_loss: 0.0946\n",
      "Epoch 5/10\n",
      "74/74 [==============================] - 7s 97ms/step - loss: 0.1289 - val_loss: 0.0849\n",
      "Epoch 6/10\n",
      "74/74 [==============================] - 7s 99ms/step - loss: 0.1163 - val_loss: 0.0824\n",
      "Epoch 7/10\n",
      "74/74 [==============================] - 7s 100ms/step - loss: 0.1109 - val_loss: 0.0692\n",
      "Epoch 8/10\n",
      "74/74 [==============================] - 8s 102ms/step - loss: 0.0988 - val_loss: 0.0662\n",
      "Epoch 9/10\n",
      "74/74 [==============================] - 8s 103ms/step - loss: 0.0894 - val_loss: 0.0627\n",
      "Epoch 10/10\n",
      "74/74 [==============================] - 7s 99ms/step - loss: 0.0839 - val_loss: 0.0595\n"
     ]
    },
    {
     "data": {
      "text/plain": [
       "<AxesSubplot:title={'center':'MAE'}>"
      ]
     },
     "execution_count": 19,
     "metadata": {},
     "output_type": "execute_result"
    },
    {
     "data": {
      "image/png": "[encoded data removed]",
      "text/plain": [
       "<Figure size 432x288 with 1 Axes>"
      ]
     },
     "metadata": {
      "needs_background": "light"
     },
     "output_type": "display_data"
    }
   ],
   "source": [
    "# 3. Introducing the BatchNormalization\n",
    "\n",
    "model3 = keras.Sequential([\n",
    "    layers.Flatten(input_shape=(28,28,1)),\n",
    "    layers.Dropout(0.3),\n",
    "    layers.BatchNormalization(),\n",
    "    layers.Dense(units=1024, activation='relu'),\n",
    "    layers.Dropout(0.3),\n",
    "    layers.BatchNormalization(),\n",
    "    layers.Dense(units=1024, activation='relu'),\n",
    "    layers.Dropout(0.3),\n",
    "    layers.BatchNormalization(),\n",
    "    layers.Dense(units=10),\n",
    "])\n",
    "\n",
    "model3.compile(\n",
    "    optimizer='adam',\n",
    "    loss='mae'\n",
    ")\n",
    "\n",
    "history3 = model3.fit(\n",
    "    X_train, Y_train,\n",
    "    validation_data=(X_val, Y_val),\n",
    "    batch_size=512,\n",
    "    epochs=10\n",
    ")\n",
    "\n",
    "history_df = pd.DataFrame(history3.history)\n",
    "history_df.loc[:, ['loss', 'val_loss']].plot(title=\"MAE\")"
   ]
  },
  {
   "cell_type": "markdown",
   "metadata": {
    "papermill": {
     "duration": 0.763771,
     "end_time": "2021-02-10T19:12:51.695266",
     "exception": false,
     "start_time": "2021-02-10T19:12:50.931495",
     "status": "completed"
    },
    "tags": []
   },
   "source": [
    "In my opininon the best model is the 3rd, so lets use it to do a prediction"
   ]
  },
  {
   "cell_type": "code",
   "execution_count": 20,
   "metadata": {
    "execution": {
     "iopub.execute_input": "2021-02-10T19:12:53.116625Z",
     "iopub.status.busy": "2021-02-10T19:12:53.115971Z",
     "iopub.status.idle": "2021-02-10T19:12:57.861270Z",
     "shell.execute_reply": "2021-02-10T19:12:57.860681Z"
    },
    "papermill": {
     "duration": 5.459945,
     "end_time": "2021-02-10T19:12:57.861419",
     "exception": false,
     "start_time": "2021-02-10T19:12:52.401474",
     "status": "completed"
    },
    "tags": []
   },
   "outputs": [
    {
     "data": {
      "text/plain": [
       "(28000, 10)"
      ]
     },
     "execution_count": 20,
     "metadata": {},
     "output_type": "execute_result"
    }
   ],
   "source": [
    "# make a prediction\n",
    "#test = to_categorical(test, num_classes = 10)\n",
    "y = model3.predict(test)\n",
    "y.shape"
   ]
  },
  {
   "cell_type": "code",
   "execution_count": 21,
   "metadata": {
    "execution": {
     "iopub.execute_input": "2021-02-10T19:12:59.294926Z",
     "iopub.status.busy": "2021-02-10T19:12:59.294234Z",
     "iopub.status.idle": "2021-02-10T19:12:59.303328Z",
     "shell.execute_reply": "2021-02-10T19:12:59.302618Z"
    },
    "papermill": {
     "duration": 0.73177,
     "end_time": "2021-02-10T19:12:59.303487",
     "exception": false,
     "start_time": "2021-02-10T19:12:58.571717",
     "status": "completed"
    },
    "tags": []
   },
   "outputs": [
    {
     "name": "stdout",
     "output_type": "stream",
     "text": [
      "4.984097\n"
     ]
    }
   ],
   "source": [
    "print(y.max())"
   ]
  },
  {
   "cell_type": "code",
   "execution_count": 22,
   "metadata": {
    "execution": {
     "iopub.execute_input": "2021-02-10T19:13:00.856898Z",
     "iopub.status.busy": "2021-02-10T19:13:00.855950Z",
     "iopub.status.idle": "2021-02-10T19:13:00.868019Z",
     "shell.execute_reply": "2021-02-10T19:13:00.868534Z"
    },
    "papermill": {
     "duration": 0.796693,
     "end_time": "2021-02-10T19:13:00.868736",
     "exception": false,
     "start_time": "2021-02-10T19:13:00.072043",
     "status": "completed"
    },
    "tags": []
   },
   "outputs": [
    {
     "name": "stdout",
     "output_type": "stream",
     "text": [
      "MinMaxScaler()\n",
      "[2.9231262  1.1518377  1.5550563  3.7349186  2.0120955  2.3402882\n",
      " 4.9558206  1.738052   0.72225136 4.984097  ]\n",
      "[[0.22741683 0.6897403  0.9132546  ... 0.17568019 0.6378127  0.02959256]\n",
      " [0.31984317 0.64497566 0.72452825 ... 0.13890466 0.5499978  0.04742796]\n",
      " [0.22910589 0.688836   0.7852944  ... 0.18202114 0.6305068  0.05554182]\n",
      " ...\n",
      " [0.22696882 0.688923   0.78463703 ... 0.18027063 0.6249882  0.02891122]\n",
      " [0.22908452 0.6891237  0.7851555  ... 0.1804917  0.630639   0.09923948]\n",
      " [0.22758357 0.6896133  0.90198    ... 0.17635535 0.6370766  0.02957068]]\n"
     ]
    }
   ],
   "source": [
    "from sklearn import preprocessing\n",
    "import pandas as pd\n",
    "\n",
    "scaler = preprocessing.MinMaxScaler()\n",
    "print(scaler.fit(y))\n",
    "\n",
    "print(scaler.data_max_)\n",
    "\n",
    "print(scaler.transform(y))"
   ]
  },
  {
   "cell_type": "code",
   "execution_count": 23,
   "metadata": {
    "execution": {
     "iopub.execute_input": "2021-02-10T19:13:02.341445Z",
     "iopub.status.busy": "2021-02-10T19:13:02.340751Z",
     "iopub.status.idle": "2021-02-10T19:13:02.349549Z",
     "shell.execute_reply": "2021-02-10T19:13:02.348878Z"
    },
    "papermill": {
     "duration": 0.742556,
     "end_time": "2021-02-10T19:13:02.349828",
     "exception": false,
     "start_time": "2021-02-10T19:13:01.607272",
     "status": "completed"
    },
    "tags": []
   },
   "outputs": [
    {
     "name": "stdout",
     "output_type": "stream",
     "text": [
      "[[0.22741683 0.6897403  0.9132546  ... 0.17568019 0.6378127  0.02959256]\n",
      " [0.31984317 0.64497566 0.72452825 ... 0.13890466 0.5499978  0.04742796]\n",
      " [0.22910589 0.688836   0.7852944  ... 0.18202114 0.6305068  0.05554182]\n",
      " ...\n",
      " [0.22696882 0.688923   0.78463703 ... 0.18027063 0.6249882  0.02891122]\n",
      " [0.22908452 0.6891237  0.7851555  ... 0.1804917  0.630639   0.09923948]\n",
      " [0.22758357 0.6896133  0.90198    ... 0.17635535 0.6370766  0.02957068]]\n"
     ]
    }
   ],
   "source": [
    "y = scaler.transform(y)\n",
    "print(y)"
   ]
  },
  {
   "cell_type": "code",
   "execution_count": 24,
   "metadata": {
    "execution": {
     "iopub.execute_input": "2021-02-10T19:13:03.794836Z",
     "iopub.status.busy": "2021-02-10T19:13:03.793927Z",
     "iopub.status.idle": "2021-02-10T19:13:04.057000Z",
     "shell.execute_reply": "2021-02-10T19:13:04.056424Z"
    },
    "papermill": {
     "duration": 0.98947,
     "end_time": "2021-02-10T19:13:04.057161",
     "exception": false,
     "start_time": "2021-02-10T19:13:03.067691",
     "status": "completed"
    },
    "tags": []
   },
   "outputs": [
    {
     "name": "stdout",
     "output_type": "stream",
     "text": [
      "1\n"
     ]
    },
    {
     "data": {
      "image/png": "[encoded data removed]",
      "text/plain": [
       "<Figure size 432x288 with 1 Axes>"
      ]
     },
     "metadata": {
      "needs_background": "light"
     },
     "output_type": "display_data"
    }
   ],
   "source": [
    "image_index = 2853\n",
    "pt.imshow(test[image_index].reshape(28, 28),cmap='Greys')\n",
    "predict = test[image_index].reshape(28,28)\n",
    "pred = model3.predict(test[image_index].reshape(1, 28, 28, 1))\n",
    "print(pred.argmax())"
   ]
  },
  {
   "cell_type": "code",
   "execution_count": 25,
   "metadata": {
    "execution": {
     "iopub.execute_input": "2021-02-10T19:13:05.535849Z",
     "iopub.status.busy": "2021-02-10T19:13:05.535140Z",
     "iopub.status.idle": "2021-02-10T19:13:14.940068Z",
     "shell.execute_reply": "2021-02-10T19:13:14.939384Z"
    },
    "papermill": {
     "duration": 10.166464,
     "end_time": "2021-02-10T19:13:14.940236",
     "exception": false,
     "start_time": "2021-02-10T19:13:04.773772",
     "status": "completed"
    },
    "tags": []
   },
   "outputs": [],
   "source": [
    "#Submit predictions\n",
    "y_pred = model3.predict(test)\n",
    "y_pred = np.argmax(y_pred,axis=1)\n",
    "\n",
    "#Create a  DataFrame with the passengers ids and our prediction regarding whether they survived or not\n",
    "sub_file = pd.read_csv('../input/digit-recognizer/sample_submission.csv')\n",
    "predictions = model3.predict(test)\n",
    "submission = pd.DataFrame({'ImageId': list(range(1, len(y_pred)+1)), 'Label':y_pred})\n",
    "\n",
    "submission.to_csv('./sample_submission.csv', index=False)"
   ]
  },
  {
   "cell_type": "code",
   "execution_count": null,
   "metadata": {
    "papermill": {
     "duration": 0.715954,
     "end_time": "2021-02-10T19:13:16.369227",
     "exception": false,
     "start_time": "2021-02-10T19:13:15.653273",
     "status": "completed"
    },
    "tags": []
   },
   "outputs": [],
   "source": []
  }
 ],
 "metadata": {
  "kernelspec": {
   "display_name": "Python 3",
   "language": "python",
   "name": "python3"
  },
  "language_info": {
   "codemirror_mode": {
    "name": "ipython",
    "version": 3
   },
   "file_extension": ".py",
   "mimetype": "text/x-python",
   "name": "python",
   "nbconvert_exporter": "python",
   "pygments_lexer": "ipython3",
   "version": "3.7.9"
  },
  "papermill": {
   "default_parameters": {},
   "duration": 237.125676,
   "end_time": "2021-02-10T19:13:19.574942",
   "environment_variables": {},
   "exception": null,
   "input_path": "__notebook__.ipynb",
   "output_path": "__notebook__.ipynb",
   "parameters": {},
   "start_time": "2021-02-10T19:09:22.449266",
   "version": "2.2.2"
  }
 },
 "nbformat": 4,
 "nbformat_minor": 4
}
