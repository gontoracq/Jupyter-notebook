{
 "cells": [
  {
   "cell_type": "markdown",
   "id": "important-salem",
   "metadata": {},
   "source": [
    "# ADA AND BTC ANALYSIS AND TIMESERIES PREDICTION"
   ]
  },
  {
   "cell_type": "markdown",
   "id": "terminal-first",
   "metadata": {},
   "source": [
    "# Introduction"
   ]
  },
  {
   "cell_type": "markdown",
   "id": "organic-killing",
   "metadata": {},
   "source": [
    "Cardano is a cryptocurrency network and open source project that aims to run a public blockchain platform for smart contracts. Cardano's internal cryptocurrency is called Ada. The development of the project is overseen and supervised by the Cardano Foundation based in Zug, Switzerland.\n",
    "\n",
    "The platform began development in 2015 and was launched in 2017 by Charles Hoskinson, a co-founder of Ethereum and BitShares. According to Hoskinson, he had left Ethereum after a dispute over keeping Ethereum nonprofit. After leaving he co-founded IOHK, a blockchain engineering company, whose primary business is the development of Cardano, alongside the Cardano Foundation and Emurgo.The platform is named after Gerolamo Cardano and the cryptocurrency after Ada Lovelace.\n",
    "\n",
    "The currency debuted with a market cap of 600 million dollars. By the end of 2017, it had a market cap of 10 billion dollars, and reached a value of 33 billion dollars briefly in 2018 before a general tightening of the crypto market dropped its value back to 10 billion dollars. According to Mashable, Cardano claims that it overcomes existing problems in the crypto market: mainly that Bitcoin is too slow and inflexible, and that Ethereum is not safe or scalable. Cardano is considered a third-generation cryptocurrency by its creators."
   ]
  },
  {
   "cell_type": "markdown",
   "id": "unusual-conjunction",
   "metadata": {},
   "source": [
    "# 1 Understand the problem and import the more important libraries"
   ]
  },
  {
   "cell_type": "markdown",
   "id": "infrared-membrane",
   "metadata": {},
   "source": [
    "I want to compare ADA with BTC (Bitcoin) which all of you should know. If not: https://en.wikipedia.org/wiki/Bitcoin"
   ]
  },
  {
   "cell_type": "code",
   "execution_count": 210,
   "id": "awful-hamburg",
   "metadata": {},
   "outputs": [],
   "source": [
    "import pandas as pd\n",
    "import numpy as np\n",
    "import matplotlib.pyplot as plt"
   ]
  },
  {
   "cell_type": "markdown",
   "id": "nonprofit-capacity",
   "metadata": {},
   "source": [
    "First of all I downloaded both datasets and import them to the project. I took data from Jan 2018 ultil Feb 2021."
   ]
  },
  {
   "cell_type": "code",
   "execution_count": 211,
   "id": "elegant-strike",
   "metadata": {},
   "outputs": [
    {
     "data": {
      "text/html": [
       "<div>\n",
       "<style scoped>\n",
       "    .dataframe tbody tr th:only-of-type {\n",
       "        vertical-align: middle;\n",
       "    }\n",
       "\n",
       "    .dataframe tbody tr th {\n",
       "        vertical-align: top;\n",
       "    }\n",
       "\n",
       "    .dataframe thead th {\n",
       "        text-align: right;\n",
       "    }\n",
       "</style>\n",
       "<table border=\"1\" class=\"dataframe\">\n",
       "  <thead>\n",
       "    <tr style=\"text-align: right;\">\n",
       "      <th></th>\n",
       "      <th>Date</th>\n",
       "      <th>Price</th>\n",
       "      <th>Open</th>\n",
       "      <th>High</th>\n",
       "      <th>Low</th>\n",
       "      <th>Vol.</th>\n",
       "      <th>Change %</th>\n",
       "    </tr>\n",
       "  </thead>\n",
       "  <tbody>\n",
       "    <tr>\n",
       "      <th>0</th>\n",
       "      <td>Feb 20, 2021</td>\n",
       "      <td>1.149122</td>\n",
       "      <td>0.925955</td>\n",
       "      <td>1.176955</td>\n",
       "      <td>0.914190</td>\n",
       "      <td>1.80B</td>\n",
       "      <td>24.11%</td>\n",
       "    </tr>\n",
       "    <tr>\n",
       "      <th>1</th>\n",
       "      <td>Feb 19, 2021</td>\n",
       "      <td>0.925894</td>\n",
       "      <td>0.913695</td>\n",
       "      <td>0.945353</td>\n",
       "      <td>0.880769</td>\n",
       "      <td>839.10M</td>\n",
       "      <td>1.33%</td>\n",
       "    </tr>\n",
       "    <tr>\n",
       "      <th>2</th>\n",
       "      <td>Feb 18, 2021</td>\n",
       "      <td>0.913752</td>\n",
       "      <td>0.891719</td>\n",
       "      <td>0.956599</td>\n",
       "      <td>0.891719</td>\n",
       "      <td>904.68M</td>\n",
       "      <td>2.47%</td>\n",
       "    </tr>\n",
       "    <tr>\n",
       "      <th>3</th>\n",
       "      <td>Feb 17, 2021</td>\n",
       "      <td>0.891702</td>\n",
       "      <td>0.870390</td>\n",
       "      <td>0.897079</td>\n",
       "      <td>0.823855</td>\n",
       "      <td>750.02M</td>\n",
       "      <td>2.45%</td>\n",
       "    </tr>\n",
       "    <tr>\n",
       "      <th>4</th>\n",
       "      <td>Feb 16, 2021</td>\n",
       "      <td>0.870393</td>\n",
       "      <td>0.859853</td>\n",
       "      <td>0.905065</td>\n",
       "      <td>0.834791</td>\n",
       "      <td>929.87M</td>\n",
       "      <td>1.19%</td>\n",
       "    </tr>\n",
       "  </tbody>\n",
       "</table>\n",
       "</div>"
      ],
      "text/plain": [
       "           Date     Price      Open      High       Low     Vol. Change %\n",
       "0  Feb 20, 2021  1.149122  0.925955  1.176955  0.914190    1.80B   24.11%\n",
       "1  Feb 19, 2021  0.925894  0.913695  0.945353  0.880769  839.10M    1.33%\n",
       "2  Feb 18, 2021  0.913752  0.891719  0.956599  0.891719  904.68M    2.47%\n",
       "3  Feb 17, 2021  0.891702  0.870390  0.897079  0.823855  750.02M    2.45%\n",
       "4  Feb 16, 2021  0.870393  0.859853  0.905065  0.834791  929.87M    1.19%"
      ]
     },
     "execution_count": 211,
     "metadata": {},
     "output_type": "execute_result"
    }
   ],
   "source": [
    "#Load de data\n",
    "cardano_hst = pd.read_csv('C:/Users/torre/OneDrive/Escritorio/PERSONAL/DATA SCIENCE/Cardano/Cardano Historical Data - Investing - 2016.csv')\n",
    "cardano_hst.head()"
   ]
  },
  {
   "cell_type": "markdown",
   "id": "alternate-disease",
   "metadata": {},
   "source": [
    "We got the Closed attribute ase Price"
   ]
  },
  {
   "cell_type": "code",
   "execution_count": 212,
   "id": "alien-template",
   "metadata": {},
   "outputs": [
    {
     "data": {
      "text/html": [
       "<div>\n",
       "<style scoped>\n",
       "    .dataframe tbody tr th:only-of-type {\n",
       "        vertical-align: middle;\n",
       "    }\n",
       "\n",
       "    .dataframe tbody tr th {\n",
       "        vertical-align: top;\n",
       "    }\n",
       "\n",
       "    .dataframe thead th {\n",
       "        text-align: right;\n",
       "    }\n",
       "</style>\n",
       "<table border=\"1\" class=\"dataframe\">\n",
       "  <thead>\n",
       "    <tr style=\"text-align: right;\">\n",
       "      <th></th>\n",
       "      <th>Date</th>\n",
       "      <th>Price</th>\n",
       "      <th>Open</th>\n",
       "      <th>High</th>\n",
       "      <th>Low</th>\n",
       "      <th>Vol.</th>\n",
       "      <th>Change %</th>\n",
       "    </tr>\n",
       "  </thead>\n",
       "  <tbody>\n",
       "    <tr>\n",
       "      <th>0</th>\n",
       "      <td>Feb 20, 2021</td>\n",
       "      <td>55923.7</td>\n",
       "      <td>55922.0</td>\n",
       "      <td>57523.8</td>\n",
       "      <td>54124.1</td>\n",
       "      <td>127.85K</td>\n",
       "      <td>0.03%</td>\n",
       "    </tr>\n",
       "    <tr>\n",
       "      <th>1</th>\n",
       "      <td>Feb 19, 2021</td>\n",
       "      <td>55906.6</td>\n",
       "      <td>51590.1</td>\n",
       "      <td>56238.5</td>\n",
       "      <td>50816.8</td>\n",
       "      <td>139.43K</td>\n",
       "      <td>8.38%</td>\n",
       "    </tr>\n",
       "    <tr>\n",
       "      <th>2</th>\n",
       "      <td>Feb 18, 2021</td>\n",
       "      <td>51582.2</td>\n",
       "      <td>52094.5</td>\n",
       "      <td>52524.0</td>\n",
       "      <td>50941.6</td>\n",
       "      <td>94.35K</td>\n",
       "      <td>-0.95%</td>\n",
       "    </tr>\n",
       "    <tr>\n",
       "      <th>3</th>\n",
       "      <td>Feb 17, 2021</td>\n",
       "      <td>52079.2</td>\n",
       "      <td>49161.3</td>\n",
       "      <td>52577.7</td>\n",
       "      <td>49018.1</td>\n",
       "      <td>140.03K</td>\n",
       "      <td>5.92%</td>\n",
       "    </tr>\n",
       "    <tr>\n",
       "      <th>4</th>\n",
       "      <td>Feb 16, 2021</td>\n",
       "      <td>49169.7</td>\n",
       "      <td>47934.2</td>\n",
       "      <td>50515.8</td>\n",
       "      <td>47044.4</td>\n",
       "      <td>141.37K</td>\n",
       "      <td>2.57%</td>\n",
       "    </tr>\n",
       "  </tbody>\n",
       "</table>\n",
       "</div>"
      ],
      "text/plain": [
       "           Date    Price     Open     High      Low     Vol. Change %\n",
       "0  Feb 20, 2021  55923.7  55922.0  57523.8  54124.1  127.85K    0.03%\n",
       "1  Feb 19, 2021  55906.6  51590.1  56238.5  50816.8  139.43K    8.38%\n",
       "2  Feb 18, 2021  51582.2  52094.5  52524.0  50941.6   94.35K   -0.95%\n",
       "3  Feb 17, 2021  52079.2  49161.3  52577.7  49018.1  140.03K    5.92%\n",
       "4  Feb 16, 2021  49169.7  47934.2  50515.8  47044.4  141.37K    2.57%"
      ]
     },
     "execution_count": 212,
     "metadata": {},
     "output_type": "execute_result"
    }
   ],
   "source": [
    "bitcoin_hst = pd.read_csv('C:/Users/torre/OneDrive/Escritorio/PERSONAL/DATA SCIENCE/Cardano/Bitcoin Historical Data - Investing.com.csv', thousands=\",\")\n",
    "bitcoin_hst.head()"
   ]
  },
  {
   "cell_type": "code",
   "execution_count": 213,
   "id": "surface-revelation",
   "metadata": {},
   "outputs": [
    {
     "data": {
      "text/plain": [
       "(1148, 7)"
      ]
     },
     "execution_count": 213,
     "metadata": {},
     "output_type": "execute_result"
    }
   ],
   "source": [
    "cardano_hst.shape"
   ]
  },
  {
   "cell_type": "code",
   "execution_count": 214,
   "id": "economic-antarctica",
   "metadata": {},
   "outputs": [
    {
     "data": {
      "text/plain": [
       "(1148, 7)"
      ]
     },
     "execution_count": 214,
     "metadata": {},
     "output_type": "execute_result"
    }
   ],
   "source": [
    "bitcoin_hst.shape"
   ]
  },
  {
   "cell_type": "code",
   "execution_count": 215,
   "id": "automatic-relevance",
   "metadata": {},
   "outputs": [
    {
     "data": {
      "text/html": [
       "<div>\n",
       "<style scoped>\n",
       "    .dataframe tbody tr th:only-of-type {\n",
       "        vertical-align: middle;\n",
       "    }\n",
       "\n",
       "    .dataframe tbody tr th {\n",
       "        vertical-align: top;\n",
       "    }\n",
       "\n",
       "    .dataframe thead th {\n",
       "        text-align: right;\n",
       "    }\n",
       "</style>\n",
       "<table border=\"1\" class=\"dataframe\">\n",
       "  <thead>\n",
       "    <tr style=\"text-align: right;\">\n",
       "      <th></th>\n",
       "      <th>Price</th>\n",
       "      <th>Open</th>\n",
       "      <th>High</th>\n",
       "      <th>Low</th>\n",
       "    </tr>\n",
       "  </thead>\n",
       "  <tbody>\n",
       "    <tr>\n",
       "      <th>count</th>\n",
       "      <td>1148.000000</td>\n",
       "      <td>1148.000000</td>\n",
       "      <td>1148.000000</td>\n",
       "      <td>1148.000000</td>\n",
       "    </tr>\n",
       "    <tr>\n",
       "      <th>mean</th>\n",
       "      <td>0.133454</td>\n",
       "      <td>0.133274</td>\n",
       "      <td>0.140585</td>\n",
       "      <td>0.124751</td>\n",
       "    </tr>\n",
       "    <tr>\n",
       "      <th>std</th>\n",
       "      <td>0.160964</td>\n",
       "      <td>0.160209</td>\n",
       "      <td>0.173440</td>\n",
       "      <td>0.144590</td>\n",
       "    </tr>\n",
       "    <tr>\n",
       "      <th>min</th>\n",
       "      <td>0.023222</td>\n",
       "      <td>0.023225</td>\n",
       "      <td>0.026454</td>\n",
       "      <td>0.017774</td>\n",
       "    </tr>\n",
       "    <tr>\n",
       "      <th>25%</th>\n",
       "      <td>0.045895</td>\n",
       "      <td>0.045884</td>\n",
       "      <td>0.047424</td>\n",
       "      <td>0.044232</td>\n",
       "    </tr>\n",
       "    <tr>\n",
       "      <th>50%</th>\n",
       "      <td>0.081616</td>\n",
       "      <td>0.081616</td>\n",
       "      <td>0.084058</td>\n",
       "      <td>0.078212</td>\n",
       "    </tr>\n",
       "    <tr>\n",
       "      <th>75%</th>\n",
       "      <td>0.143326</td>\n",
       "      <td>0.143324</td>\n",
       "      <td>0.148790</td>\n",
       "      <td>0.137339</td>\n",
       "    </tr>\n",
       "    <tr>\n",
       "      <th>max</th>\n",
       "      <td>1.149122</td>\n",
       "      <td>1.180000</td>\n",
       "      <td>1.350000</td>\n",
       "      <td>1.050000</td>\n",
       "    </tr>\n",
       "  </tbody>\n",
       "</table>\n",
       "</div>"
      ],
      "text/plain": [
       "             Price         Open         High          Low\n",
       "count  1148.000000  1148.000000  1148.000000  1148.000000\n",
       "mean      0.133454     0.133274     0.140585     0.124751\n",
       "std       0.160964     0.160209     0.173440     0.144590\n",
       "min       0.023222     0.023225     0.026454     0.017774\n",
       "25%       0.045895     0.045884     0.047424     0.044232\n",
       "50%       0.081616     0.081616     0.084058     0.078212\n",
       "75%       0.143326     0.143324     0.148790     0.137339\n",
       "max       1.149122     1.180000     1.350000     1.050000"
      ]
     },
     "execution_count": 215,
     "metadata": {},
     "output_type": "execute_result"
    }
   ],
   "source": [
    "cardano_hst.describe()"
   ]
  },
  {
   "cell_type": "markdown",
   "id": "postal-tutorial",
   "metadata": {},
   "source": [
    "We can get from this data indicators that the historical maximum is 1.35 but never closed like that or even higher that 1.149122. Also we can see that the std (standard deviation) is higher on 'High' than in the other ones so that mean the cryptocurrency market fluctuate more on higher values."
   ]
  },
  {
   "cell_type": "code",
   "execution_count": 216,
   "id": "acceptable-title",
   "metadata": {},
   "outputs": [
    {
     "data": {
      "text/html": [
       "<div>\n",
       "<style scoped>\n",
       "    .dataframe tbody tr th:only-of-type {\n",
       "        vertical-align: middle;\n",
       "    }\n",
       "\n",
       "    .dataframe tbody tr th {\n",
       "        vertical-align: top;\n",
       "    }\n",
       "\n",
       "    .dataframe thead th {\n",
       "        text-align: right;\n",
       "    }\n",
       "</style>\n",
       "<table border=\"1\" class=\"dataframe\">\n",
       "  <thead>\n",
       "    <tr style=\"text-align: right;\">\n",
       "      <th></th>\n",
       "      <th>Price</th>\n",
       "      <th>Open</th>\n",
       "      <th>High</th>\n",
       "      <th>Low</th>\n",
       "    </tr>\n",
       "  </thead>\n",
       "  <tbody>\n",
       "    <tr>\n",
       "      <th>count</th>\n",
       "      <td>1148.000000</td>\n",
       "      <td>1148.000000</td>\n",
       "      <td>1148.000000</td>\n",
       "      <td>1148.000000</td>\n",
       "    </tr>\n",
       "    <tr>\n",
       "      <th>mean</th>\n",
       "      <td>10023.177003</td>\n",
       "      <td>9985.070035</td>\n",
       "      <td>10278.126394</td>\n",
       "      <td>9684.443118</td>\n",
       "    </tr>\n",
       "    <tr>\n",
       "      <th>std</th>\n",
       "      <td>7313.543011</td>\n",
       "      <td>7186.251726</td>\n",
       "      <td>7540.971388</td>\n",
       "      <td>6895.392082</td>\n",
       "    </tr>\n",
       "    <tr>\n",
       "      <th>min</th>\n",
       "      <td>3228.700000</td>\n",
       "      <td>3228.600000</td>\n",
       "      <td>3282.300000</td>\n",
       "      <td>3177.000000</td>\n",
       "    </tr>\n",
       "    <tr>\n",
       "      <th>25%</th>\n",
       "      <td>6597.875000</td>\n",
       "      <td>6597.575000</td>\n",
       "      <td>6708.500000</td>\n",
       "      <td>6472.175000</td>\n",
       "    </tr>\n",
       "    <tr>\n",
       "      <th>50%</th>\n",
       "      <td>8544.700000</td>\n",
       "      <td>8544.800000</td>\n",
       "      <td>8743.650000</td>\n",
       "      <td>8243.850000</td>\n",
       "    </tr>\n",
       "    <tr>\n",
       "      <th>75%</th>\n",
       "      <td>10405.225000</td>\n",
       "      <td>10404.775000</td>\n",
       "      <td>10736.575000</td>\n",
       "      <td>10130.675000</td>\n",
       "    </tr>\n",
       "    <tr>\n",
       "      <th>max</th>\n",
       "      <td>55923.700000</td>\n",
       "      <td>55922.000000</td>\n",
       "      <td>57523.800000</td>\n",
       "      <td>54124.100000</td>\n",
       "    </tr>\n",
       "  </tbody>\n",
       "</table>\n",
       "</div>"
      ],
      "text/plain": [
       "              Price          Open          High           Low\n",
       "count   1148.000000   1148.000000   1148.000000   1148.000000\n",
       "mean   10023.177003   9985.070035  10278.126394   9684.443118\n",
       "std     7313.543011   7186.251726   7540.971388   6895.392082\n",
       "min     3228.700000   3228.600000   3282.300000   3177.000000\n",
       "25%     6597.875000   6597.575000   6708.500000   6472.175000\n",
       "50%     8544.700000   8544.800000   8743.650000   8243.850000\n",
       "75%    10405.225000  10404.775000  10736.575000  10130.675000\n",
       "max    55923.700000  55922.000000  57523.800000  54124.100000"
      ]
     },
     "execution_count": 216,
     "metadata": {},
     "output_type": "execute_result"
    }
   ],
   "source": [
    "bitcoin_hst.describe()"
   ]
  },
  {
   "cell_type": "markdown",
   "id": "exposed-brown",
   "metadata": {},
   "source": [
    "# 2 Data Preparation"
   ]
  },
  {
   "cell_type": "code",
   "execution_count": 217,
   "id": "temporal-catalyst",
   "metadata": {},
   "outputs": [],
   "source": [
    "cardano_hst = cardano_hst.rename(columns={\"Vol.\": \"Vol\",\"Change %\": \"Change\"})\n",
    "bitcoin_hst = bitcoin_hst.rename(columns={\"Vol.\": \"Vol\",\"Change %\": \"Change\"})"
   ]
  },
  {
   "cell_type": "code",
   "execution_count": 218,
   "id": "distant-belle",
   "metadata": {},
   "outputs": [
    {
     "data": {
      "text/html": [
       "<div>\n",
       "<style scoped>\n",
       "    .dataframe tbody tr th:only-of-type {\n",
       "        vertical-align: middle;\n",
       "    }\n",
       "\n",
       "    .dataframe tbody tr th {\n",
       "        vertical-align: top;\n",
       "    }\n",
       "\n",
       "    .dataframe thead th {\n",
       "        text-align: right;\n",
       "    }\n",
       "</style>\n",
       "<table border=\"1\" class=\"dataframe\">\n",
       "  <thead>\n",
       "    <tr style=\"text-align: right;\">\n",
       "      <th></th>\n",
       "      <th>Date</th>\n",
       "      <th>Price</th>\n",
       "      <th>Open</th>\n",
       "      <th>High</th>\n",
       "      <th>Low</th>\n",
       "      <th>Vol</th>\n",
       "      <th>Change</th>\n",
       "    </tr>\n",
       "  </thead>\n",
       "  <tbody>\n",
       "    <tr>\n",
       "      <th>0</th>\n",
       "      <td>Feb 20, 2021</td>\n",
       "      <td>1.149122</td>\n",
       "      <td>0.925955</td>\n",
       "      <td>1.176955</td>\n",
       "      <td>0.914190</td>\n",
       "      <td>1.80B</td>\n",
       "      <td>24.11%</td>\n",
       "    </tr>\n",
       "    <tr>\n",
       "      <th>1</th>\n",
       "      <td>Feb 19, 2021</td>\n",
       "      <td>0.925894</td>\n",
       "      <td>0.913695</td>\n",
       "      <td>0.945353</td>\n",
       "      <td>0.880769</td>\n",
       "      <td>839.10M</td>\n",
       "      <td>1.33%</td>\n",
       "    </tr>\n",
       "    <tr>\n",
       "      <th>2</th>\n",
       "      <td>Feb 18, 2021</td>\n",
       "      <td>0.913752</td>\n",
       "      <td>0.891719</td>\n",
       "      <td>0.956599</td>\n",
       "      <td>0.891719</td>\n",
       "      <td>904.68M</td>\n",
       "      <td>2.47%</td>\n",
       "    </tr>\n",
       "    <tr>\n",
       "      <th>3</th>\n",
       "      <td>Feb 17, 2021</td>\n",
       "      <td>0.891702</td>\n",
       "      <td>0.870390</td>\n",
       "      <td>0.897079</td>\n",
       "      <td>0.823855</td>\n",
       "      <td>750.02M</td>\n",
       "      <td>2.45%</td>\n",
       "    </tr>\n",
       "    <tr>\n",
       "      <th>4</th>\n",
       "      <td>Feb 16, 2021</td>\n",
       "      <td>0.870393</td>\n",
       "      <td>0.859853</td>\n",
       "      <td>0.905065</td>\n",
       "      <td>0.834791</td>\n",
       "      <td>929.87M</td>\n",
       "      <td>1.19%</td>\n",
       "    </tr>\n",
       "  </tbody>\n",
       "</table>\n",
       "</div>"
      ],
      "text/plain": [
       "           Date     Price      Open      High       Low      Vol  Change\n",
       "0  Feb 20, 2021  1.149122  0.925955  1.176955  0.914190    1.80B  24.11%\n",
       "1  Feb 19, 2021  0.925894  0.913695  0.945353  0.880769  839.10M   1.33%\n",
       "2  Feb 18, 2021  0.913752  0.891719  0.956599  0.891719  904.68M   2.47%\n",
       "3  Feb 17, 2021  0.891702  0.870390  0.897079  0.823855  750.02M   2.45%\n",
       "4  Feb 16, 2021  0.870393  0.859853  0.905065  0.834791  929.87M   1.19%"
      ]
     },
     "execution_count": 218,
     "metadata": {},
     "output_type": "execute_result"
    }
   ],
   "source": [
    "cardano_hst.head()"
   ]
  },
  {
   "cell_type": "code",
   "execution_count": 219,
   "id": "rising-remainder",
   "metadata": {},
   "outputs": [],
   "source": [
    "import datetime\n",
    "\n",
    "# Convert Date to datetime\n",
    "cardano_hst['Date'] = pd.to_datetime(cardano_hst['Date'])\n",
    "cardano_hst['Crypto'] = 'ADA'\n",
    "bitcoin_hst['Date'] = pd.to_datetime(bitcoin_hst['Date'])\n",
    "bitcoin_hst['Crypto'] = 'BTC'"
   ]
  },
  {
   "cell_type": "markdown",
   "id": "crucial-witness",
   "metadata": {},
   "source": [
    "I'll probably want to concatenate both datasets so thats why I created the Crypto attribute to differentiate rows."
   ]
  },
  {
   "cell_type": "code",
   "execution_count": 220,
   "id": "sonic-beijing",
   "metadata": {},
   "outputs": [
    {
     "data": {
      "text/html": [
       "<div>\n",
       "<style scoped>\n",
       "    .dataframe tbody tr th:only-of-type {\n",
       "        vertical-align: middle;\n",
       "    }\n",
       "\n",
       "    .dataframe tbody tr th {\n",
       "        vertical-align: top;\n",
       "    }\n",
       "\n",
       "    .dataframe thead th {\n",
       "        text-align: right;\n",
       "    }\n",
       "</style>\n",
       "<table border=\"1\" class=\"dataframe\">\n",
       "  <thead>\n",
       "    <tr style=\"text-align: right;\">\n",
       "      <th></th>\n",
       "      <th>Date</th>\n",
       "      <th>Price</th>\n",
       "      <th>Open</th>\n",
       "      <th>High</th>\n",
       "      <th>Low</th>\n",
       "      <th>Vol</th>\n",
       "      <th>Change</th>\n",
       "      <th>Crypto</th>\n",
       "    </tr>\n",
       "  </thead>\n",
       "  <tbody>\n",
       "    <tr>\n",
       "      <th>0</th>\n",
       "      <td>2021-02-20</td>\n",
       "      <td>1.149122</td>\n",
       "      <td>0.925955</td>\n",
       "      <td>1.176955</td>\n",
       "      <td>0.914190</td>\n",
       "      <td>1.80B</td>\n",
       "      <td>24.11%</td>\n",
       "      <td>ADA</td>\n",
       "    </tr>\n",
       "    <tr>\n",
       "      <th>1</th>\n",
       "      <td>2021-02-19</td>\n",
       "      <td>0.925894</td>\n",
       "      <td>0.913695</td>\n",
       "      <td>0.945353</td>\n",
       "      <td>0.880769</td>\n",
       "      <td>839.10M</td>\n",
       "      <td>1.33%</td>\n",
       "      <td>ADA</td>\n",
       "    </tr>\n",
       "    <tr>\n",
       "      <th>2</th>\n",
       "      <td>2021-02-18</td>\n",
       "      <td>0.913752</td>\n",
       "      <td>0.891719</td>\n",
       "      <td>0.956599</td>\n",
       "      <td>0.891719</td>\n",
       "      <td>904.68M</td>\n",
       "      <td>2.47%</td>\n",
       "      <td>ADA</td>\n",
       "    </tr>\n",
       "    <tr>\n",
       "      <th>3</th>\n",
       "      <td>2021-02-17</td>\n",
       "      <td>0.891702</td>\n",
       "      <td>0.870390</td>\n",
       "      <td>0.897079</td>\n",
       "      <td>0.823855</td>\n",
       "      <td>750.02M</td>\n",
       "      <td>2.45%</td>\n",
       "      <td>ADA</td>\n",
       "    </tr>\n",
       "    <tr>\n",
       "      <th>4</th>\n",
       "      <td>2021-02-16</td>\n",
       "      <td>0.870393</td>\n",
       "      <td>0.859853</td>\n",
       "      <td>0.905065</td>\n",
       "      <td>0.834791</td>\n",
       "      <td>929.87M</td>\n",
       "      <td>1.19%</td>\n",
       "      <td>ADA</td>\n",
       "    </tr>\n",
       "  </tbody>\n",
       "</table>\n",
       "</div>"
      ],
      "text/plain": [
       "        Date     Price      Open      High       Low      Vol  Change Crypto\n",
       "0 2021-02-20  1.149122  0.925955  1.176955  0.914190    1.80B  24.11%    ADA\n",
       "1 2021-02-19  0.925894  0.913695  0.945353  0.880769  839.10M   1.33%    ADA\n",
       "2 2021-02-18  0.913752  0.891719  0.956599  0.891719  904.68M   2.47%    ADA\n",
       "3 2021-02-17  0.891702  0.870390  0.897079  0.823855  750.02M   2.45%    ADA\n",
       "4 2021-02-16  0.870393  0.859853  0.905065  0.834791  929.87M   1.19%    ADA"
      ]
     },
     "execution_count": 220,
     "metadata": {},
     "output_type": "execute_result"
    }
   ],
   "source": [
    "cardano_hst.head()"
   ]
  },
  {
   "cell_type": "code",
   "execution_count": 224,
   "id": "phantom-layout",
   "metadata": {},
   "outputs": [
    {
     "data": {
      "image/png": "[encoded data removed]",
      "text/plain": [
       "<Figure size 432x288 with 1 Axes>"
      ]
     },
     "metadata": {
      "needs_background": "light"
     },
     "output_type": "display_data"
    }
   ],
   "source": [
    "import seaborn as sns\n",
    "\n",
    "sns.lineplot(x='Date', y='Price', data=bitcoin_hst)\n",
    "plt.xticks(rotation=25)\n",
    "plt.title('BITCOIN Price TimeSeries')\n",
    "plt.show()"
   ]
  },
  {
   "cell_type": "markdown",
   "id": "hungarian-quick",
   "metadata": {},
   "source": [
    "Probably we should plot some information grouped by the date sub-attributes so that's why the next code."
   ]
  },
  {
   "cell_type": "code",
   "execution_count": 225,
   "id": "greater-covering",
   "metadata": {},
   "outputs": [],
   "source": [
    "cardano_hst = cardano_hst.set_index('Date')\n",
    "\n",
    "cardano_hst['Year'] = cardano_hst.index.year\n",
    "cardano_hst['Month'] = cardano_hst.index.month\n",
    "cardano_hst['Day'] = cardano_hst.index.day"
   ]
  },
  {
   "cell_type": "code",
   "execution_count": 226,
   "id": "asian-major",
   "metadata": {},
   "outputs": [
    {
     "data": {
      "image/png": "[encoded data removed]",
      "text/plain": [
       "<Figure size 432x288 with 1 Axes>"
      ]
     },
     "metadata": {
      "needs_background": "light"
     },
     "output_type": "display_data"
    }
   ],
   "source": [
    "sns.lineplot(x=\"Date\", y=\"Price\", data=cardano_hst, color='green')\n",
    "plt.xticks(rotation=25)\n",
    "plt.title('CARDANO Price TimeSeries')\n",
    "plt.show()"
   ]
  },
  {
   "cell_type": "code",
   "execution_count": 227,
   "id": "binding-selection",
   "metadata": {},
   "outputs": [
    {
     "name": "stderr",
     "output_type": "stream",
     "text": [
      "<ipython-input-227-afd584413ff3>:5: FutureWarning: The default value of regex will change from True to False in a future version. In addition, single character regular expressions will*not* be treated as literal strings when regex=True.\n",
      "  bitcoin_hst['Vol'] = bitcoin_hst['Vol'].str.replace('.', '')\n"
     ]
    }
   ],
   "source": [
    "bitcoin_hst['Change'] = bitcoin_hst['Change'].str.replace('%', '')\n",
    "bitcoin_hst['Vol'] = bitcoin_hst['Vol'].str.replace('B', '000000000')\n",
    "bitcoin_hst['Vol'] = bitcoin_hst['Vol'].str.replace('M', '000000')\n",
    "bitcoin_hst['Vol'] = bitcoin_hst['Vol'].str.replace('K', '000')\n",
    "bitcoin_hst['Vol'] = bitcoin_hst['Vol'].str.replace('.', '')\n",
    "#bitcoin_hst = bitcoin_hst.drop(columns=['Date'])"
   ]
  },
  {
   "cell_type": "code",
   "execution_count": 228,
   "id": "alien-citation",
   "metadata": {},
   "outputs": [
    {
     "data": {
      "text/html": [
       "<div>\n",
       "<style scoped>\n",
       "    .dataframe tbody tr th:only-of-type {\n",
       "        vertical-align: middle;\n",
       "    }\n",
       "\n",
       "    .dataframe tbody tr th {\n",
       "        vertical-align: top;\n",
       "    }\n",
       "\n",
       "    .dataframe thead th {\n",
       "        text-align: right;\n",
       "    }\n",
       "</style>\n",
       "<table border=\"1\" class=\"dataframe\">\n",
       "  <thead>\n",
       "    <tr style=\"text-align: right;\">\n",
       "      <th></th>\n",
       "      <th>Date</th>\n",
       "      <th>Price</th>\n",
       "      <th>Open</th>\n",
       "      <th>High</th>\n",
       "      <th>Low</th>\n",
       "      <th>Vol</th>\n",
       "      <th>Change</th>\n",
       "      <th>Crypto</th>\n",
       "    </tr>\n",
       "  </thead>\n",
       "  <tbody>\n",
       "    <tr>\n",
       "      <th>0</th>\n",
       "      <td>2021-02-20</td>\n",
       "      <td>55923.7</td>\n",
       "      <td>55922.0</td>\n",
       "      <td>57523.8</td>\n",
       "      <td>54124.1</td>\n",
       "      <td>12785000</td>\n",
       "      <td>0.03</td>\n",
       "      <td>BTC</td>\n",
       "    </tr>\n",
       "    <tr>\n",
       "      <th>1</th>\n",
       "      <td>2021-02-19</td>\n",
       "      <td>55906.6</td>\n",
       "      <td>51590.1</td>\n",
       "      <td>56238.5</td>\n",
       "      <td>50816.8</td>\n",
       "      <td>13943000</td>\n",
       "      <td>8.38</td>\n",
       "      <td>BTC</td>\n",
       "    </tr>\n",
       "    <tr>\n",
       "      <th>2</th>\n",
       "      <td>2021-02-18</td>\n",
       "      <td>51582.2</td>\n",
       "      <td>52094.5</td>\n",
       "      <td>52524.0</td>\n",
       "      <td>50941.6</td>\n",
       "      <td>9435000</td>\n",
       "      <td>-0.95</td>\n",
       "      <td>BTC</td>\n",
       "    </tr>\n",
       "    <tr>\n",
       "      <th>3</th>\n",
       "      <td>2021-02-17</td>\n",
       "      <td>52079.2</td>\n",
       "      <td>49161.3</td>\n",
       "      <td>52577.7</td>\n",
       "      <td>49018.1</td>\n",
       "      <td>14003000</td>\n",
       "      <td>5.92</td>\n",
       "      <td>BTC</td>\n",
       "    </tr>\n",
       "    <tr>\n",
       "      <th>4</th>\n",
       "      <td>2021-02-16</td>\n",
       "      <td>49169.7</td>\n",
       "      <td>47934.2</td>\n",
       "      <td>50515.8</td>\n",
       "      <td>47044.4</td>\n",
       "      <td>14137000</td>\n",
       "      <td>2.57</td>\n",
       "      <td>BTC</td>\n",
       "    </tr>\n",
       "  </tbody>\n",
       "</table>\n",
       "</div>"
      ],
      "text/plain": [
       "        Date    Price     Open     High      Low       Vol Change Crypto\n",
       "0 2021-02-20  55923.7  55922.0  57523.8  54124.1  12785000   0.03    BTC\n",
       "1 2021-02-19  55906.6  51590.1  56238.5  50816.8  13943000   8.38    BTC\n",
       "2 2021-02-18  51582.2  52094.5  52524.0  50941.6   9435000  -0.95    BTC\n",
       "3 2021-02-17  52079.2  49161.3  52577.7  49018.1  14003000   5.92    BTC\n",
       "4 2021-02-16  49169.7  47934.2  50515.8  47044.4  14137000   2.57    BTC"
      ]
     },
     "execution_count": 228,
     "metadata": {},
     "output_type": "execute_result"
    }
   ],
   "source": [
    "bitcoin_hst.head()"
   ]
  },
  {
   "cell_type": "code",
   "execution_count": 229,
   "id": "typical-system",
   "metadata": {},
   "outputs": [
    {
     "name": "stderr",
     "output_type": "stream",
     "text": [
      "<ipython-input-229-9f8d90b4cd53>:4: FutureWarning: The default value of regex will change from True to False in a future version. In addition, single character regular expressions will*not* be treated as literal strings when regex=True.\n",
      "  cardano_hst['Vol'] = cardano_hst['Vol'].str.replace('.', '')\n"
     ]
    }
   ],
   "source": [
    "cardano_hst['Change'] = cardano_hst['Change'].str.replace('%', '')\n",
    "cardano_hst['Vol'] = cardano_hst['Vol'].str.replace('B', '000000000')\n",
    "cardano_hst['Vol'] = cardano_hst['Vol'].str.replace('M', '000000')\n",
    "cardano_hst['Vol'] = cardano_hst['Vol'].str.replace('.', '')\n",
    "#cardano_hst = cardano_hst.drop(columns=['Date'])"
   ]
  },
  {
   "cell_type": "code",
   "execution_count": 230,
   "id": "subtle-maker",
   "metadata": {},
   "outputs": [
    {
     "data": {
      "text/html": [
       "<div>\n",
       "<style scoped>\n",
       "    .dataframe tbody tr th:only-of-type {\n",
       "        vertical-align: middle;\n",
       "    }\n",
       "\n",
       "    .dataframe tbody tr th {\n",
       "        vertical-align: top;\n",
       "    }\n",
       "\n",
       "    .dataframe thead th {\n",
       "        text-align: right;\n",
       "    }\n",
       "</style>\n",
       "<table border=\"1\" class=\"dataframe\">\n",
       "  <thead>\n",
       "    <tr style=\"text-align: right;\">\n",
       "      <th></th>\n",
       "      <th>Price</th>\n",
       "      <th>Open</th>\n",
       "      <th>High</th>\n",
       "      <th>Low</th>\n",
       "      <th>Vol</th>\n",
       "      <th>Change</th>\n",
       "      <th>Crypto</th>\n",
       "      <th>Year</th>\n",
       "      <th>Month</th>\n",
       "      <th>Day</th>\n",
       "    </tr>\n",
       "    <tr>\n",
       "      <th>Date</th>\n",
       "      <th></th>\n",
       "      <th></th>\n",
       "      <th></th>\n",
       "      <th></th>\n",
       "      <th></th>\n",
       "      <th></th>\n",
       "      <th></th>\n",
       "      <th></th>\n",
       "      <th></th>\n",
       "      <th></th>\n",
       "    </tr>\n",
       "  </thead>\n",
       "  <tbody>\n",
       "    <tr>\n",
       "      <th>2021-02-20</th>\n",
       "      <td>1.149122</td>\n",
       "      <td>0.925955</td>\n",
       "      <td>1.176955</td>\n",
       "      <td>0.914190</td>\n",
       "      <td>180000000000</td>\n",
       "      <td>24.11</td>\n",
       "      <td>ADA</td>\n",
       "      <td>2021</td>\n",
       "      <td>2</td>\n",
       "      <td>20</td>\n",
       "    </tr>\n",
       "    <tr>\n",
       "      <th>2021-02-19</th>\n",
       "      <td>0.925894</td>\n",
       "      <td>0.913695</td>\n",
       "      <td>0.945353</td>\n",
       "      <td>0.880769</td>\n",
       "      <td>83910000000</td>\n",
       "      <td>1.33</td>\n",
       "      <td>ADA</td>\n",
       "      <td>2021</td>\n",
       "      <td>2</td>\n",
       "      <td>19</td>\n",
       "    </tr>\n",
       "    <tr>\n",
       "      <th>2021-02-18</th>\n",
       "      <td>0.913752</td>\n",
       "      <td>0.891719</td>\n",
       "      <td>0.956599</td>\n",
       "      <td>0.891719</td>\n",
       "      <td>90468000000</td>\n",
       "      <td>2.47</td>\n",
       "      <td>ADA</td>\n",
       "      <td>2021</td>\n",
       "      <td>2</td>\n",
       "      <td>18</td>\n",
       "    </tr>\n",
       "    <tr>\n",
       "      <th>2021-02-17</th>\n",
       "      <td>0.891702</td>\n",
       "      <td>0.870390</td>\n",
       "      <td>0.897079</td>\n",
       "      <td>0.823855</td>\n",
       "      <td>75002000000</td>\n",
       "      <td>2.45</td>\n",
       "      <td>ADA</td>\n",
       "      <td>2021</td>\n",
       "      <td>2</td>\n",
       "      <td>17</td>\n",
       "    </tr>\n",
       "    <tr>\n",
       "      <th>2021-02-16</th>\n",
       "      <td>0.870393</td>\n",
       "      <td>0.859853</td>\n",
       "      <td>0.905065</td>\n",
       "      <td>0.834791</td>\n",
       "      <td>92987000000</td>\n",
       "      <td>1.19</td>\n",
       "      <td>ADA</td>\n",
       "      <td>2021</td>\n",
       "      <td>2</td>\n",
       "      <td>16</td>\n",
       "    </tr>\n",
       "  </tbody>\n",
       "</table>\n",
       "</div>"
      ],
      "text/plain": [
       "               Price      Open      High       Low           Vol Change  \\\n",
       "Date                                                                      \n",
       "2021-02-20  1.149122  0.925955  1.176955  0.914190  180000000000  24.11   \n",
       "2021-02-19  0.925894  0.913695  0.945353  0.880769   83910000000   1.33   \n",
       "2021-02-18  0.913752  0.891719  0.956599  0.891719   90468000000   2.47   \n",
       "2021-02-17  0.891702  0.870390  0.897079  0.823855   75002000000   2.45   \n",
       "2021-02-16  0.870393  0.859853  0.905065  0.834791   92987000000   1.19   \n",
       "\n",
       "           Crypto  Year  Month  Day  \n",
       "Date                                 \n",
       "2021-02-20    ADA  2021      2   20  \n",
       "2021-02-19    ADA  2021      2   19  \n",
       "2021-02-18    ADA  2021      2   18  \n",
       "2021-02-17    ADA  2021      2   17  \n",
       "2021-02-16    ADA  2021      2   16  "
      ]
     },
     "execution_count": 230,
     "metadata": {},
     "output_type": "execute_result"
    }
   ],
   "source": [
    "cardano_hst.head()"
   ]
  },
  {
   "cell_type": "code",
   "execution_count": 231,
   "id": "specific-stomach",
   "metadata": {},
   "outputs": [
    {
     "data": {
      "text/plain": [
       "Price     False\n",
       "Open      False\n",
       "High      False\n",
       "Low       False\n",
       "Vol       False\n",
       "Change    False\n",
       "Crypto    False\n",
       "Year      False\n",
       "Month     False\n",
       "Day       False\n",
       "dtype: bool"
      ]
     },
     "execution_count": 231,
     "metadata": {},
     "output_type": "execute_result"
    }
   ],
   "source": [
    "cardano_hst.isnull().any()"
   ]
  },
  {
   "cell_type": "markdown",
   "id": "cheap-cancellation",
   "metadata": {},
   "source": [
    "# 4 Data Analysis for ADA"
   ]
  },
  {
   "cell_type": "code",
   "execution_count": 236,
   "id": "cordless-joseph",
   "metadata": {},
   "outputs": [
    {
     "data": {
      "image/png": "[encoded data removed]",
      "text/plain": [
       "<Figure size 792x720 with 3 Axes>"
      ]
     },
     "metadata": {
      "needs_background": "light"
     },
     "output_type": "display_data"
    }
   ],
   "source": [
    "cardano_hst['Month'] = cardano_hst.index.month\n",
    "\n",
    "ig, axes = pt.subplots(3, 1, figsize=(11, 10), sharex=True)\n",
    "for name, ax in zip(['Price', 'High', 'Low'], axes):\n",
    "    sns.boxplot(data=cardano_hst, x='Month', y=name, ax=ax)\n",
    "    ax.set_ylabel('Dollars')\n",
    "    ax.set_title(name)\n",
    "    # Remove the automatic x-axis label from all but the bottom subplot\n",
    "    if ax != axes[-1]:\n",
    "        ax.set_xlabel('')"
   ]
  },
  {
   "cell_type": "code",
   "execution_count": 238,
   "id": "steady-campus",
   "metadata": {},
   "outputs": [
    {
     "data": {
      "image/png": "[encoded data removed]",
      "text/plain": [
       "<Figure size 792x720 with 3 Axes>"
      ]
     },
     "metadata": {
      "needs_background": "light"
     },
     "output_type": "display_data"
    }
   ],
   "source": [
    "bitcoin_hst = bitcoin_hst.set_index('Date')\n",
    "bitcoin_hst['Month'] = bitcoin_hst.index.month\n",
    "\n",
    "ig, axes = pt.subplots(3, 1, figsize=(11, 10), sharex=True)\n",
    "for name, ax in zip(['Price', 'High', 'Low'], axes):\n",
    "    sns.boxplot(data=bitcoin_hst, x='Month', y=name, ax=ax)\n",
    "    ax.set_ylabel('Dollars')\n",
    "    ax.set_title(name)\n",
    "    # Remove the automatic x-axis label from all but the bottom subplot\n",
    "    if ax != axes[-1]:\n",
    "        ax.set_xlabel('')"
   ]
  },
  {
   "cell_type": "markdown",
   "id": "handled-mortality",
   "metadata": {},
   "source": [
    "I am definitely not a trader or a broker but if I wanted to play some money on this I would probably earn more money on January, February, May and December for ADA and the same for BTC but November instead of May."
   ]
  },
  {
   "cell_type": "markdown",
   "id": "unlike-velvet",
   "metadata": {},
   "source": [
    "# 4 Time Series Forecasting using RandomForestRegressor"
   ]
  },
  {
   "cell_type": "code",
   "execution_count": 154,
   "id": "binding-india",
   "metadata": {},
   "outputs": [],
   "source": [
    "from sklearn.ensemble import RandomForestRegressor"
   ]
  },
  {
   "cell_type": "code",
   "execution_count": 155,
   "id": "adapted-purpose",
   "metadata": {},
   "outputs": [],
   "source": [
    "# Read the data\n",
    "train = cardano_hst"
   ]
  },
  {
   "cell_type": "code",
   "execution_count": null,
   "id": "elementary-apollo",
   "metadata": {},
   "outputs": [],
   "source": [
    "# pull data into target (y) and predictors (X)\n",
    "train_y = train.Price\n",
    "predictor_cols = ['Open', 'High', 'Low', 'Vol']\n",
    "\n",
    "# Create training predictors data\n",
    "train_X = train[predictor_cols]\n",
    "\n",
    "my_model = RandomForestRegressor()\n",
    "my_model.fit(train_X, train_y)"
   ]
  },
  {
   "cell_type": "code",
   "execution_count": null,
   "id": "recognized-liability",
   "metadata": {},
   "outputs": [],
   "source": []
  }
 ],
 "metadata": {
  "kernelspec": {
   "display_name": "Python [conda env:GonzaloTorres] *",
   "language": "python",
   "name": "conda-env-GonzaloTorres-py"
  },
  "language_info": {
   "codemirror_mode": {
    "name": "ipython",
    "version": 3
   },
   "file_extension": ".py",
   "mimetype": "text/x-python",
   "name": "python",
   "nbconvert_exporter": "python",
   "pygments_lexer": "ipython3",
   "version": "3.8.5"
  }
 },
 "nbformat": 4,
 "nbformat_minor": 5
}
