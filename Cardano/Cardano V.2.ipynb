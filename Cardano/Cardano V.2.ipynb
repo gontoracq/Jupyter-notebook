{
 "cells": [
  {
   "cell_type": "markdown",
   "id": "important-salem",
   "metadata": {},
   "source": [
    "# TIMESERIES PREDICTION - APPLICATIONS TO ADA AND BTC"
   ]
  },
  {
   "cell_type": "markdown",
   "id": "terminal-first",
   "metadata": {},
   "source": [
    "# Introduction"
   ]
  },
  {
   "cell_type": "markdown",
   "id": "organic-killing",
   "metadata": {},
   "source": [
    "Cardano is a cryptocurrency network and open source project that aims to run a public blockchain platform for smart contracts. Cardano's internal cryptocurrency is called Ada. The development of the project is overseen and supervised by the Cardano Foundation based in Zug, Switzerland.\n",
    "\n",
    "The platform began development in 2015 and was launched in 2017 by Charles Hoskinson, a co-founder of Ethereum and BitShares. According to Hoskinson, he had left Ethereum after a dispute over keeping Ethereum nonprofit. After leaving he co-founded IOHK, a blockchain engineering company, whose primary business is the development of Cardano, alongside the Cardano Foundation and Emurgo.The platform is named after Gerolamo Cardano and the cryptocurrency after Ada Lovelace.\n",
    "\n",
    "The currency debuted with a market cap of 600 million dollars. By the end of 2017, it had a market cap of 10 billion dollars, and reached a value of 33 billion dollars briefly in 2018 before a general tightening of the crypto market dropped its value back to 10 billion dollars. According to Mashable, Cardano claims that it overcomes existing problems in the crypto market: mainly that Bitcoin is too slow and inflexible, and that Ethereum is not safe or scalable. Cardano is considered a third-generation cryptocurrency by its creators."
   ]
  },
  {
   "cell_type": "markdown",
   "id": "unusual-conjunction",
   "metadata": {},
   "source": [
    "# 1 Understand the problem and import the more important libraries"
   ]
  },
  {
   "cell_type": "markdown",
   "id": "infrared-membrane",
   "metadata": {},
   "source": [
    "I want to compare ADA with BTC (Bitcoin) which all of you should know. If not: https://en.wikipedia.org/wiki/Bitcoin"
   ]
  },
  {
   "cell_type": "code",
   "execution_count": 1,
   "id": "awful-hamburg",
   "metadata": {},
   "outputs": [],
   "source": [
    "import pandas as pd\n",
    "import numpy as np\n",
    "import matplotlib.pyplot as plt"
   ]
  },
  {
   "cell_type": "markdown",
   "id": "nonprofit-capacity",
   "metadata": {},
   "source": [
    "First of all I downloaded both datasets and import them to the project. I took data from Jan 2018 ultil Feb 2021."
   ]
  },
  {
   "cell_type": "code",
   "execution_count": 2,
   "id": "elegant-strike",
   "metadata": {},
   "outputs": [
    {
     "data": {
      "text/html": [
       "<div>\n",
       "<style scoped>\n",
       "    .dataframe tbody tr th:only-of-type {\n",
       "        vertical-align: middle;\n",
       "    }\n",
       "\n",
       "    .dataframe tbody tr th {\n",
       "        vertical-align: top;\n",
       "    }\n",
       "\n",
       "    .dataframe thead th {\n",
       "        text-align: right;\n",
       "    }\n",
       "</style>\n",
       "<table border=\"1\" class=\"dataframe\">\n",
       "  <thead>\n",
       "    <tr style=\"text-align: right;\">\n",
       "      <th></th>\n",
       "      <th>Date</th>\n",
       "      <th>Price</th>\n",
       "      <th>Open</th>\n",
       "      <th>High</th>\n",
       "      <th>Low</th>\n",
       "      <th>Vol.</th>\n",
       "      <th>Change %</th>\n",
       "    </tr>\n",
       "  </thead>\n",
       "  <tbody>\n",
       "    <tr>\n",
       "      <th>0</th>\n",
       "      <td>Feb 20, 2021</td>\n",
       "      <td>1.149122</td>\n",
       "      <td>0.925955</td>\n",
       "      <td>1.176955</td>\n",
       "      <td>0.914190</td>\n",
       "      <td>1.80B</td>\n",
       "      <td>24.11%</td>\n",
       "    </tr>\n",
       "    <tr>\n",
       "      <th>1</th>\n",
       "      <td>Feb 19, 2021</td>\n",
       "      <td>0.925894</td>\n",
       "      <td>0.913695</td>\n",
       "      <td>0.945353</td>\n",
       "      <td>0.880769</td>\n",
       "      <td>839.10M</td>\n",
       "      <td>1.33%</td>\n",
       "    </tr>\n",
       "    <tr>\n",
       "      <th>2</th>\n",
       "      <td>Feb 18, 2021</td>\n",
       "      <td>0.913752</td>\n",
       "      <td>0.891719</td>\n",
       "      <td>0.956599</td>\n",
       "      <td>0.891719</td>\n",
       "      <td>904.68M</td>\n",
       "      <td>2.47%</td>\n",
       "    </tr>\n",
       "    <tr>\n",
       "      <th>3</th>\n",
       "      <td>Feb 17, 2021</td>\n",
       "      <td>0.891702</td>\n",
       "      <td>0.870390</td>\n",
       "      <td>0.897079</td>\n",
       "      <td>0.823855</td>\n",
       "      <td>750.02M</td>\n",
       "      <td>2.45%</td>\n",
       "    </tr>\n",
       "    <tr>\n",
       "      <th>4</th>\n",
       "      <td>Feb 16, 2021</td>\n",
       "      <td>0.870393</td>\n",
       "      <td>0.859853</td>\n",
       "      <td>0.905065</td>\n",
       "      <td>0.834791</td>\n",
       "      <td>929.87M</td>\n",
       "      <td>1.19%</td>\n",
       "    </tr>\n",
       "  </tbody>\n",
       "</table>\n",
       "</div>"
      ],
      "text/plain": [
       "           Date     Price      Open      High       Low     Vol. Change %\n",
       "0  Feb 20, 2021  1.149122  0.925955  1.176955  0.914190    1.80B   24.11%\n",
       "1  Feb 19, 2021  0.925894  0.913695  0.945353  0.880769  839.10M    1.33%\n",
       "2  Feb 18, 2021  0.913752  0.891719  0.956599  0.891719  904.68M    2.47%\n",
       "3  Feb 17, 2021  0.891702  0.870390  0.897079  0.823855  750.02M    2.45%\n",
       "4  Feb 16, 2021  0.870393  0.859853  0.905065  0.834791  929.87M    1.19%"
      ]
     },
     "execution_count": 2,
     "metadata": {},
     "output_type": "execute_result"
    }
   ],
   "source": [
    "#Load de data\n",
    "cardano_hst = pd.read_csv('C:/Users/torre/OneDrive/Escritorio/PERSONAL/DATA SCIENCE/Cardano/Cardano Historical Data - Investing - 2016.csv')\n",
    "cardano_hst.head()"
   ]
  },
  {
   "cell_type": "markdown",
   "id": "alternate-disease",
   "metadata": {},
   "source": [
    "We got the Closed attribute ase Price"
   ]
  },
  {
   "cell_type": "code",
   "execution_count": 3,
   "id": "alien-template",
   "metadata": {},
   "outputs": [
    {
     "data": {
      "text/html": [
       "<div>\n",
       "<style scoped>\n",
       "    .dataframe tbody tr th:only-of-type {\n",
       "        vertical-align: middle;\n",
       "    }\n",
       "\n",
       "    .dataframe tbody tr th {\n",
       "        vertical-align: top;\n",
       "    }\n",
       "\n",
       "    .dataframe thead th {\n",
       "        text-align: right;\n",
       "    }\n",
       "</style>\n",
       "<table border=\"1\" class=\"dataframe\">\n",
       "  <thead>\n",
       "    <tr style=\"text-align: right;\">\n",
       "      <th></th>\n",
       "      <th>Date</th>\n",
       "      <th>Price</th>\n",
       "      <th>Open</th>\n",
       "      <th>High</th>\n",
       "      <th>Low</th>\n",
       "      <th>Vol.</th>\n",
       "      <th>Change %</th>\n",
       "    </tr>\n",
       "  </thead>\n",
       "  <tbody>\n",
       "    <tr>\n",
       "      <th>0</th>\n",
       "      <td>Feb 20, 2021</td>\n",
       "      <td>55923.7</td>\n",
       "      <td>55922.0</td>\n",
       "      <td>57523.8</td>\n",
       "      <td>54124.1</td>\n",
       "      <td>127.85K</td>\n",
       "      <td>0.03%</td>\n",
       "    </tr>\n",
       "    <tr>\n",
       "      <th>1</th>\n",
       "      <td>Feb 19, 2021</td>\n",
       "      <td>55906.6</td>\n",
       "      <td>51590.1</td>\n",
       "      <td>56238.5</td>\n",
       "      <td>50816.8</td>\n",
       "      <td>139.43K</td>\n",
       "      <td>8.38%</td>\n",
       "    </tr>\n",
       "    <tr>\n",
       "      <th>2</th>\n",
       "      <td>Feb 18, 2021</td>\n",
       "      <td>51582.2</td>\n",
       "      <td>52094.5</td>\n",
       "      <td>52524.0</td>\n",
       "      <td>50941.6</td>\n",
       "      <td>94.35K</td>\n",
       "      <td>-0.95%</td>\n",
       "    </tr>\n",
       "    <tr>\n",
       "      <th>3</th>\n",
       "      <td>Feb 17, 2021</td>\n",
       "      <td>52079.2</td>\n",
       "      <td>49161.3</td>\n",
       "      <td>52577.7</td>\n",
       "      <td>49018.1</td>\n",
       "      <td>140.03K</td>\n",
       "      <td>5.92%</td>\n",
       "    </tr>\n",
       "    <tr>\n",
       "      <th>4</th>\n",
       "      <td>Feb 16, 2021</td>\n",
       "      <td>49169.7</td>\n",
       "      <td>47934.2</td>\n",
       "      <td>50515.8</td>\n",
       "      <td>47044.4</td>\n",
       "      <td>141.37K</td>\n",
       "      <td>2.57%</td>\n",
       "    </tr>\n",
       "  </tbody>\n",
       "</table>\n",
       "</div>"
      ],
      "text/plain": [
       "           Date    Price     Open     High      Low     Vol. Change %\n",
       "0  Feb 20, 2021  55923.7  55922.0  57523.8  54124.1  127.85K    0.03%\n",
       "1  Feb 19, 2021  55906.6  51590.1  56238.5  50816.8  139.43K    8.38%\n",
       "2  Feb 18, 2021  51582.2  52094.5  52524.0  50941.6   94.35K   -0.95%\n",
       "3  Feb 17, 2021  52079.2  49161.3  52577.7  49018.1  140.03K    5.92%\n",
       "4  Feb 16, 2021  49169.7  47934.2  50515.8  47044.4  141.37K    2.57%"
      ]
     },
     "execution_count": 3,
     "metadata": {},
     "output_type": "execute_result"
    }
   ],
   "source": [
    "bitcoin_hst = pd.read_csv('C:/Users/torre/OneDrive/Escritorio/PERSONAL/DATA SCIENCE/Cardano/Bitcoin Historical Data - Investing.com.csv', thousands=\",\")\n",
    "bitcoin_hst.head()"
   ]
  },
  {
   "cell_type": "code",
   "execution_count": 4,
   "id": "surface-revelation",
   "metadata": {},
   "outputs": [
    {
     "data": {
      "text/plain": [
       "(1148, 7)"
      ]
     },
     "execution_count": 4,
     "metadata": {},
     "output_type": "execute_result"
    }
   ],
   "source": [
    "cardano_hst.shape"
   ]
  },
  {
   "cell_type": "code",
   "execution_count": 5,
   "id": "economic-antarctica",
   "metadata": {},
   "outputs": [
    {
     "data": {
      "text/plain": [
       "(1148, 7)"
      ]
     },
     "execution_count": 5,
     "metadata": {},
     "output_type": "execute_result"
    }
   ],
   "source": [
    "bitcoin_hst.shape"
   ]
  },
  {
   "cell_type": "code",
   "execution_count": 6,
   "id": "automatic-relevance",
   "metadata": {},
   "outputs": [
    {
     "data": {
      "text/html": [
       "<div>\n",
       "<style scoped>\n",
       "    .dataframe tbody tr th:only-of-type {\n",
       "        vertical-align: middle;\n",
       "    }\n",
       "\n",
       "    .dataframe tbody tr th {\n",
       "        vertical-align: top;\n",
       "    }\n",
       "\n",
       "    .dataframe thead th {\n",
       "        text-align: right;\n",
       "    }\n",
       "</style>\n",
       "<table border=\"1\" class=\"dataframe\">\n",
       "  <thead>\n",
       "    <tr style=\"text-align: right;\">\n",
       "      <th></th>\n",
       "      <th>Price</th>\n",
       "      <th>Open</th>\n",
       "      <th>High</th>\n",
       "      <th>Low</th>\n",
       "    </tr>\n",
       "  </thead>\n",
       "  <tbody>\n",
       "    <tr>\n",
       "      <th>count</th>\n",
       "      <td>1148.000000</td>\n",
       "      <td>1148.000000</td>\n",
       "      <td>1148.000000</td>\n",
       "      <td>1148.000000</td>\n",
       "    </tr>\n",
       "    <tr>\n",
       "      <th>mean</th>\n",
       "      <td>0.133454</td>\n",
       "      <td>0.133274</td>\n",
       "      <td>0.140585</td>\n",
       "      <td>0.124751</td>\n",
       "    </tr>\n",
       "    <tr>\n",
       "      <th>std</th>\n",
       "      <td>0.160964</td>\n",
       "      <td>0.160209</td>\n",
       "      <td>0.173440</td>\n",
       "      <td>0.144590</td>\n",
       "    </tr>\n",
       "    <tr>\n",
       "      <th>min</th>\n",
       "      <td>0.023222</td>\n",
       "      <td>0.023225</td>\n",
       "      <td>0.026454</td>\n",
       "      <td>0.017774</td>\n",
       "    </tr>\n",
       "    <tr>\n",
       "      <th>25%</th>\n",
       "      <td>0.045895</td>\n",
       "      <td>0.045884</td>\n",
       "      <td>0.047424</td>\n",
       "      <td>0.044232</td>\n",
       "    </tr>\n",
       "    <tr>\n",
       "      <th>50%</th>\n",
       "      <td>0.081616</td>\n",
       "      <td>0.081616</td>\n",
       "      <td>0.084058</td>\n",
       "      <td>0.078212</td>\n",
       "    </tr>\n",
       "    <tr>\n",
       "      <th>75%</th>\n",
       "      <td>0.143326</td>\n",
       "      <td>0.143324</td>\n",
       "      <td>0.148790</td>\n",
       "      <td>0.137339</td>\n",
       "    </tr>\n",
       "    <tr>\n",
       "      <th>max</th>\n",
       "      <td>1.149122</td>\n",
       "      <td>1.180000</td>\n",
       "      <td>1.350000</td>\n",
       "      <td>1.050000</td>\n",
       "    </tr>\n",
       "  </tbody>\n",
       "</table>\n",
       "</div>"
      ],
      "text/plain": [
       "             Price         Open         High          Low\n",
       "count  1148.000000  1148.000000  1148.000000  1148.000000\n",
       "mean      0.133454     0.133274     0.140585     0.124751\n",
       "std       0.160964     0.160209     0.173440     0.144590\n",
       "min       0.023222     0.023225     0.026454     0.017774\n",
       "25%       0.045895     0.045884     0.047424     0.044232\n",
       "50%       0.081616     0.081616     0.084058     0.078212\n",
       "75%       0.143326     0.143324     0.148790     0.137339\n",
       "max       1.149122     1.180000     1.350000     1.050000"
      ]
     },
     "execution_count": 6,
     "metadata": {},
     "output_type": "execute_result"
    }
   ],
   "source": [
    "cardano_hst.describe()"
   ]
  },
  {
   "cell_type": "markdown",
   "id": "postal-tutorial",
   "metadata": {},
   "source": [
    "We can get from this data indicators that the historical maximum is 1.35 but never closed like that or even higher that 1.149122. Also we can see that the std (standard deviation) is higher on 'High' than in the other ones so that mean the cryptocurrency market fluctuate more on higher values."
   ]
  },
  {
   "cell_type": "code",
   "execution_count": 7,
   "id": "acceptable-title",
   "metadata": {},
   "outputs": [
    {
     "data": {
      "text/html": [
       "<div>\n",
       "<style scoped>\n",
       "    .dataframe tbody tr th:only-of-type {\n",
       "        vertical-align: middle;\n",
       "    }\n",
       "\n",
       "    .dataframe tbody tr th {\n",
       "        vertical-align: top;\n",
       "    }\n",
       "\n",
       "    .dataframe thead th {\n",
       "        text-align: right;\n",
       "    }\n",
       "</style>\n",
       "<table border=\"1\" class=\"dataframe\">\n",
       "  <thead>\n",
       "    <tr style=\"text-align: right;\">\n",
       "      <th></th>\n",
       "      <th>Price</th>\n",
       "      <th>Open</th>\n",
       "      <th>High</th>\n",
       "      <th>Low</th>\n",
       "    </tr>\n",
       "  </thead>\n",
       "  <tbody>\n",
       "    <tr>\n",
       "      <th>count</th>\n",
       "      <td>1148.000000</td>\n",
       "      <td>1148.000000</td>\n",
       "      <td>1148.000000</td>\n",
       "      <td>1148.000000</td>\n",
       "    </tr>\n",
       "    <tr>\n",
       "      <th>mean</th>\n",
       "      <td>10023.177003</td>\n",
       "      <td>9985.070035</td>\n",
       "      <td>10278.126394</td>\n",
       "      <td>9684.443118</td>\n",
       "    </tr>\n",
       "    <tr>\n",
       "      <th>std</th>\n",
       "      <td>7313.543011</td>\n",
       "      <td>7186.251726</td>\n",
       "      <td>7540.971388</td>\n",
       "      <td>6895.392082</td>\n",
       "    </tr>\n",
       "    <tr>\n",
       "      <th>min</th>\n",
       "      <td>3228.700000</td>\n",
       "      <td>3228.600000</td>\n",
       "      <td>3282.300000</td>\n",
       "      <td>3177.000000</td>\n",
       "    </tr>\n",
       "    <tr>\n",
       "      <th>25%</th>\n",
       "      <td>6597.875000</td>\n",
       "      <td>6597.575000</td>\n",
       "      <td>6708.500000</td>\n",
       "      <td>6472.175000</td>\n",
       "    </tr>\n",
       "    <tr>\n",
       "      <th>50%</th>\n",
       "      <td>8544.700000</td>\n",
       "      <td>8544.800000</td>\n",
       "      <td>8743.650000</td>\n",
       "      <td>8243.850000</td>\n",
       "    </tr>\n",
       "    <tr>\n",
       "      <th>75%</th>\n",
       "      <td>10405.225000</td>\n",
       "      <td>10404.775000</td>\n",
       "      <td>10736.575000</td>\n",
       "      <td>10130.675000</td>\n",
       "    </tr>\n",
       "    <tr>\n",
       "      <th>max</th>\n",
       "      <td>55923.700000</td>\n",
       "      <td>55922.000000</td>\n",
       "      <td>57523.800000</td>\n",
       "      <td>54124.100000</td>\n",
       "    </tr>\n",
       "  </tbody>\n",
       "</table>\n",
       "</div>"
      ],
      "text/plain": [
       "              Price          Open          High           Low\n",
       "count   1148.000000   1148.000000   1148.000000   1148.000000\n",
       "mean   10023.177003   9985.070035  10278.126394   9684.443118\n",
       "std     7313.543011   7186.251726   7540.971388   6895.392082\n",
       "min     3228.700000   3228.600000   3282.300000   3177.000000\n",
       "25%     6597.875000   6597.575000   6708.500000   6472.175000\n",
       "50%     8544.700000   8544.800000   8743.650000   8243.850000\n",
       "75%    10405.225000  10404.775000  10736.575000  10130.675000\n",
       "max    55923.700000  55922.000000  57523.800000  54124.100000"
      ]
     },
     "execution_count": 7,
     "metadata": {},
     "output_type": "execute_result"
    }
   ],
   "source": [
    "bitcoin_hst.describe()"
   ]
  },
  {
   "cell_type": "markdown",
   "id": "exposed-brown",
   "metadata": {},
   "source": [
    "# 2 Data Preparation"
   ]
  },
  {
   "cell_type": "code",
   "execution_count": 8,
   "id": "temporal-catalyst",
   "metadata": {},
   "outputs": [],
   "source": [
    "cardano_hst = cardano_hst.rename(columns={\"Vol.\": \"Vol\",\"Change %\": \"Change\"})\n",
    "bitcoin_hst = bitcoin_hst.rename(columns={\"Vol.\": \"Vol\",\"Change %\": \"Change\"})"
   ]
  },
  {
   "cell_type": "code",
   "execution_count": 9,
   "id": "distant-belle",
   "metadata": {},
   "outputs": [
    {
     "data": {
      "text/html": [
       "<div>\n",
       "<style scoped>\n",
       "    .dataframe tbody tr th:only-of-type {\n",
       "        vertical-align: middle;\n",
       "    }\n",
       "\n",
       "    .dataframe tbody tr th {\n",
       "        vertical-align: top;\n",
       "    }\n",
       "\n",
       "    .dataframe thead th {\n",
       "        text-align: right;\n",
       "    }\n",
       "</style>\n",
       "<table border=\"1\" class=\"dataframe\">\n",
       "  <thead>\n",
       "    <tr style=\"text-align: right;\">\n",
       "      <th></th>\n",
       "      <th>Date</th>\n",
       "      <th>Price</th>\n",
       "      <th>Open</th>\n",
       "      <th>High</th>\n",
       "      <th>Low</th>\n",
       "      <th>Vol</th>\n",
       "      <th>Change</th>\n",
       "    </tr>\n",
       "  </thead>\n",
       "  <tbody>\n",
       "    <tr>\n",
       "      <th>0</th>\n",
       "      <td>Feb 20, 2021</td>\n",
       "      <td>1.149122</td>\n",
       "      <td>0.925955</td>\n",
       "      <td>1.176955</td>\n",
       "      <td>0.914190</td>\n",
       "      <td>1.80B</td>\n",
       "      <td>24.11%</td>\n",
       "    </tr>\n",
       "    <tr>\n",
       "      <th>1</th>\n",
       "      <td>Feb 19, 2021</td>\n",
       "      <td>0.925894</td>\n",
       "      <td>0.913695</td>\n",
       "      <td>0.945353</td>\n",
       "      <td>0.880769</td>\n",
       "      <td>839.10M</td>\n",
       "      <td>1.33%</td>\n",
       "    </tr>\n",
       "    <tr>\n",
       "      <th>2</th>\n",
       "      <td>Feb 18, 2021</td>\n",
       "      <td>0.913752</td>\n",
       "      <td>0.891719</td>\n",
       "      <td>0.956599</td>\n",
       "      <td>0.891719</td>\n",
       "      <td>904.68M</td>\n",
       "      <td>2.47%</td>\n",
       "    </tr>\n",
       "    <tr>\n",
       "      <th>3</th>\n",
       "      <td>Feb 17, 2021</td>\n",
       "      <td>0.891702</td>\n",
       "      <td>0.870390</td>\n",
       "      <td>0.897079</td>\n",
       "      <td>0.823855</td>\n",
       "      <td>750.02M</td>\n",
       "      <td>2.45%</td>\n",
       "    </tr>\n",
       "    <tr>\n",
       "      <th>4</th>\n",
       "      <td>Feb 16, 2021</td>\n",
       "      <td>0.870393</td>\n",
       "      <td>0.859853</td>\n",
       "      <td>0.905065</td>\n",
       "      <td>0.834791</td>\n",
       "      <td>929.87M</td>\n",
       "      <td>1.19%</td>\n",
       "    </tr>\n",
       "  </tbody>\n",
       "</table>\n",
       "</div>"
      ],
      "text/plain": [
       "           Date     Price      Open      High       Low      Vol  Change\n",
       "0  Feb 20, 2021  1.149122  0.925955  1.176955  0.914190    1.80B  24.11%\n",
       "1  Feb 19, 2021  0.925894  0.913695  0.945353  0.880769  839.10M   1.33%\n",
       "2  Feb 18, 2021  0.913752  0.891719  0.956599  0.891719  904.68M   2.47%\n",
       "3  Feb 17, 2021  0.891702  0.870390  0.897079  0.823855  750.02M   2.45%\n",
       "4  Feb 16, 2021  0.870393  0.859853  0.905065  0.834791  929.87M   1.19%"
      ]
     },
     "execution_count": 9,
     "metadata": {},
     "output_type": "execute_result"
    }
   ],
   "source": [
    "cardano_hst.head()"
   ]
  },
  {
   "cell_type": "code",
   "execution_count": 10,
   "id": "rising-remainder",
   "metadata": {},
   "outputs": [],
   "source": [
    "import datetime\n",
    "\n",
    "# Convert Date to datetime\n",
    "cardano_hst['Date'] = pd.to_datetime(cardano_hst['Date'])\n",
    "cardano_hst['Crypto'] = 'ADA'\n",
    "bitcoin_hst['Date'] = pd.to_datetime(bitcoin_hst['Date'])\n",
    "bitcoin_hst['Crypto'] = 'BTC'"
   ]
  },
  {
   "cell_type": "markdown",
   "id": "crucial-witness",
   "metadata": {},
   "source": [
    "I'll probably want to concatenate both datasets so thats why I created the Crypto attribute to differentiate rows."
   ]
  },
  {
   "cell_type": "code",
   "execution_count": 11,
   "id": "sonic-beijing",
   "metadata": {},
   "outputs": [
    {
     "data": {
      "text/html": [
       "<div>\n",
       "<style scoped>\n",
       "    .dataframe tbody tr th:only-of-type {\n",
       "        vertical-align: middle;\n",
       "    }\n",
       "\n",
       "    .dataframe tbody tr th {\n",
       "        vertical-align: top;\n",
       "    }\n",
       "\n",
       "    .dataframe thead th {\n",
       "        text-align: right;\n",
       "    }\n",
       "</style>\n",
       "<table border=\"1\" class=\"dataframe\">\n",
       "  <thead>\n",
       "    <tr style=\"text-align: right;\">\n",
       "      <th></th>\n",
       "      <th>Date</th>\n",
       "      <th>Price</th>\n",
       "      <th>Open</th>\n",
       "      <th>High</th>\n",
       "      <th>Low</th>\n",
       "      <th>Vol</th>\n",
       "      <th>Change</th>\n",
       "      <th>Crypto</th>\n",
       "    </tr>\n",
       "  </thead>\n",
       "  <tbody>\n",
       "    <tr>\n",
       "      <th>0</th>\n",
       "      <td>2021-02-20</td>\n",
       "      <td>1.149122</td>\n",
       "      <td>0.925955</td>\n",
       "      <td>1.176955</td>\n",
       "      <td>0.914190</td>\n",
       "      <td>1.80B</td>\n",
       "      <td>24.11%</td>\n",
       "      <td>ADA</td>\n",
       "    </tr>\n",
       "    <tr>\n",
       "      <th>1</th>\n",
       "      <td>2021-02-19</td>\n",
       "      <td>0.925894</td>\n",
       "      <td>0.913695</td>\n",
       "      <td>0.945353</td>\n",
       "      <td>0.880769</td>\n",
       "      <td>839.10M</td>\n",
       "      <td>1.33%</td>\n",
       "      <td>ADA</td>\n",
       "    </tr>\n",
       "    <tr>\n",
       "      <th>2</th>\n",
       "      <td>2021-02-18</td>\n",
       "      <td>0.913752</td>\n",
       "      <td>0.891719</td>\n",
       "      <td>0.956599</td>\n",
       "      <td>0.891719</td>\n",
       "      <td>904.68M</td>\n",
       "      <td>2.47%</td>\n",
       "      <td>ADA</td>\n",
       "    </tr>\n",
       "    <tr>\n",
       "      <th>3</th>\n",
       "      <td>2021-02-17</td>\n",
       "      <td>0.891702</td>\n",
       "      <td>0.870390</td>\n",
       "      <td>0.897079</td>\n",
       "      <td>0.823855</td>\n",
       "      <td>750.02M</td>\n",
       "      <td>2.45%</td>\n",
       "      <td>ADA</td>\n",
       "    </tr>\n",
       "    <tr>\n",
       "      <th>4</th>\n",
       "      <td>2021-02-16</td>\n",
       "      <td>0.870393</td>\n",
       "      <td>0.859853</td>\n",
       "      <td>0.905065</td>\n",
       "      <td>0.834791</td>\n",
       "      <td>929.87M</td>\n",
       "      <td>1.19%</td>\n",
       "      <td>ADA</td>\n",
       "    </tr>\n",
       "  </tbody>\n",
       "</table>\n",
       "</div>"
      ],
      "text/plain": [
       "        Date     Price      Open      High       Low      Vol  Change Crypto\n",
       "0 2021-02-20  1.149122  0.925955  1.176955  0.914190    1.80B  24.11%    ADA\n",
       "1 2021-02-19  0.925894  0.913695  0.945353  0.880769  839.10M   1.33%    ADA\n",
       "2 2021-02-18  0.913752  0.891719  0.956599  0.891719  904.68M   2.47%    ADA\n",
       "3 2021-02-17  0.891702  0.870390  0.897079  0.823855  750.02M   2.45%    ADA\n",
       "4 2021-02-16  0.870393  0.859853  0.905065  0.834791  929.87M   1.19%    ADA"
      ]
     },
     "execution_count": 11,
     "metadata": {},
     "output_type": "execute_result"
    }
   ],
   "source": [
    "cardano_hst.head()"
   ]
  },
  {
   "cell_type": "code",
   "execution_count": 12,
   "id": "phantom-layout",
   "metadata": {},
   "outputs": [
    {
     "data": {
      "image/png": "[encoded data removed]",
      "text/plain": [
       "<Figure size 432x288 with 1 Axes>"
      ]
     },
     "metadata": {
      "needs_background": "light"
     },
     "output_type": "display_data"
    }
   ],
   "source": [
    "import seaborn as sns\n",
    "\n",
    "sns.lineplot(x='Date', y='Price', data=bitcoin_hst)\n",
    "plt.xticks(rotation=25)\n",
    "plt.title('BITCOIN Price TimeSeries')\n",
    "plt.show()"
   ]
  },
  {
   "cell_type": "markdown",
   "id": "hungarian-quick",
   "metadata": {},
   "source": [
    "Probably we should plot some information grouped by the date sub-attributes so that's why the next code."
   ]
  },
  {
   "cell_type": "code",
   "execution_count": 13,
   "id": "greater-covering",
   "metadata": {},
   "outputs": [],
   "source": [
    "cardano_hst = cardano_hst.set_index('Date')\n",
    "\n",
    "cardano_hst['Year'] = cardano_hst.index.year\n",
    "cardano_hst['Month'] = cardano_hst.index.month\n",
    "cardano_hst['Day'] = cardano_hst.index.day"
   ]
  },
  {
   "cell_type": "code",
   "execution_count": 14,
   "id": "asian-major",
   "metadata": {},
   "outputs": [
    {
     "data": {
      "image/png": "[encoded data removed]",
      "text/plain": [
       "<Figure size 432x288 with 1 Axes>"
      ]
     },
     "metadata": {
      "needs_background": "light"
     },
     "output_type": "display_data"
    }
   ],
   "source": [
    "sns.lineplot(x=\"Date\", y=\"Price\", data=cardano_hst, color='green')\n",
    "plt.xticks(rotation=25)\n",
    "plt.title('CARDANO Price TimeSeries')\n",
    "plt.show()"
   ]
  },
  {
   "cell_type": "code",
   "execution_count": 15,
   "id": "binding-selection",
   "metadata": {},
   "outputs": [
    {
     "name": "stderr",
     "output_type": "stream",
     "text": [
      "<ipython-input-15-afd584413ff3>:5: FutureWarning: The default value of regex will change from True to False in a future version. In addition, single character regular expressions will*not* be treated as literal strings when regex=True.\n",
      "  bitcoin_hst['Vol'] = bitcoin_hst['Vol'].str.replace('.', '')\n"
     ]
    }
   ],
   "source": [
    "bitcoin_hst['Change'] = bitcoin_hst['Change'].str.replace('%', '')\n",
    "bitcoin_hst['Vol'] = bitcoin_hst['Vol'].str.replace('B', '000000000')\n",
    "bitcoin_hst['Vol'] = bitcoin_hst['Vol'].str.replace('M', '000000')\n",
    "bitcoin_hst['Vol'] = bitcoin_hst['Vol'].str.replace('K', '000')\n",
    "bitcoin_hst['Vol'] = bitcoin_hst['Vol'].str.replace('.', '')\n",
    "#bitcoin_hst = bitcoin_hst.drop(columns=['Date'])"
   ]
  },
  {
   "cell_type": "code",
   "execution_count": 16,
   "id": "alien-citation",
   "metadata": {},
   "outputs": [
    {
     "data": {
      "text/html": [
       "<div>\n",
       "<style scoped>\n",
       "    .dataframe tbody tr th:only-of-type {\n",
       "        vertical-align: middle;\n",
       "    }\n",
       "\n",
       "    .dataframe tbody tr th {\n",
       "        vertical-align: top;\n",
       "    }\n",
       "\n",
       "    .dataframe thead th {\n",
       "        text-align: right;\n",
       "    }\n",
       "</style>\n",
       "<table border=\"1\" class=\"dataframe\">\n",
       "  <thead>\n",
       "    <tr style=\"text-align: right;\">\n",
       "      <th></th>\n",
       "      <th>Date</th>\n",
       "      <th>Price</th>\n",
       "      <th>Open</th>\n",
       "      <th>High</th>\n",
       "      <th>Low</th>\n",
       "      <th>Vol</th>\n",
       "      <th>Change</th>\n",
       "      <th>Crypto</th>\n",
       "    </tr>\n",
       "  </thead>\n",
       "  <tbody>\n",
       "    <tr>\n",
       "      <th>0</th>\n",
       "      <td>2021-02-20</td>\n",
       "      <td>55923.7</td>\n",
       "      <td>55922.0</td>\n",
       "      <td>57523.8</td>\n",
       "      <td>54124.1</td>\n",
       "      <td>12785000</td>\n",
       "      <td>0.03</td>\n",
       "      <td>BTC</td>\n",
       "    </tr>\n",
       "    <tr>\n",
       "      <th>1</th>\n",
       "      <td>2021-02-19</td>\n",
       "      <td>55906.6</td>\n",
       "      <td>51590.1</td>\n",
       "      <td>56238.5</td>\n",
       "      <td>50816.8</td>\n",
       "      <td>13943000</td>\n",
       "      <td>8.38</td>\n",
       "      <td>BTC</td>\n",
       "    </tr>\n",
       "    <tr>\n",
       "      <th>2</th>\n",
       "      <td>2021-02-18</td>\n",
       "      <td>51582.2</td>\n",
       "      <td>52094.5</td>\n",
       "      <td>52524.0</td>\n",
       "      <td>50941.6</td>\n",
       "      <td>9435000</td>\n",
       "      <td>-0.95</td>\n",
       "      <td>BTC</td>\n",
       "    </tr>\n",
       "    <tr>\n",
       "      <th>3</th>\n",
       "      <td>2021-02-17</td>\n",
       "      <td>52079.2</td>\n",
       "      <td>49161.3</td>\n",
       "      <td>52577.7</td>\n",
       "      <td>49018.1</td>\n",
       "      <td>14003000</td>\n",
       "      <td>5.92</td>\n",
       "      <td>BTC</td>\n",
       "    </tr>\n",
       "    <tr>\n",
       "      <th>4</th>\n",
       "      <td>2021-02-16</td>\n",
       "      <td>49169.7</td>\n",
       "      <td>47934.2</td>\n",
       "      <td>50515.8</td>\n",
       "      <td>47044.4</td>\n",
       "      <td>14137000</td>\n",
       "      <td>2.57</td>\n",
       "      <td>BTC</td>\n",
       "    </tr>\n",
       "  </tbody>\n",
       "</table>\n",
       "</div>"
      ],
      "text/plain": [
       "        Date    Price     Open     High      Low       Vol Change Crypto\n",
       "0 2021-02-20  55923.7  55922.0  57523.8  54124.1  12785000   0.03    BTC\n",
       "1 2021-02-19  55906.6  51590.1  56238.5  50816.8  13943000   8.38    BTC\n",
       "2 2021-02-18  51582.2  52094.5  52524.0  50941.6   9435000  -0.95    BTC\n",
       "3 2021-02-17  52079.2  49161.3  52577.7  49018.1  14003000   5.92    BTC\n",
       "4 2021-02-16  49169.7  47934.2  50515.8  47044.4  14137000   2.57    BTC"
      ]
     },
     "execution_count": 16,
     "metadata": {},
     "output_type": "execute_result"
    }
   ],
   "source": [
    "bitcoin_hst.head()"
   ]
  },
  {
   "cell_type": "code",
   "execution_count": 17,
   "id": "typical-system",
   "metadata": {},
   "outputs": [
    {
     "name": "stderr",
     "output_type": "stream",
     "text": [
      "<ipython-input-17-9f8d90b4cd53>:4: FutureWarning: The default value of regex will change from True to False in a future version. In addition, single character regular expressions will*not* be treated as literal strings when regex=True.\n",
      "  cardano_hst['Vol'] = cardano_hst['Vol'].str.replace('.', '')\n"
     ]
    }
   ],
   "source": [
    "cardano_hst['Change'] = cardano_hst['Change'].str.replace('%', '')\n",
    "cardano_hst['Vol'] = cardano_hst['Vol'].str.replace('B', '000000000')\n",
    "cardano_hst['Vol'] = cardano_hst['Vol'].str.replace('M', '000000')\n",
    "cardano_hst['Vol'] = cardano_hst['Vol'].str.replace('.', '')\n",
    "#cardano_hst = cardano_hst.drop(columns=['Date'])"
   ]
  },
  {
   "cell_type": "code",
   "execution_count": 18,
   "id": "subtle-maker",
   "metadata": {},
   "outputs": [
    {
     "data": {
      "text/html": [
       "<div>\n",
       "<style scoped>\n",
       "    .dataframe tbody tr th:only-of-type {\n",
       "        vertical-align: middle;\n",
       "    }\n",
       "\n",
       "    .dataframe tbody tr th {\n",
       "        vertical-align: top;\n",
       "    }\n",
       "\n",
       "    .dataframe thead th {\n",
       "        text-align: right;\n",
       "    }\n",
       "</style>\n",
       "<table border=\"1\" class=\"dataframe\">\n",
       "  <thead>\n",
       "    <tr style=\"text-align: right;\">\n",
       "      <th></th>\n",
       "      <th>Price</th>\n",
       "      <th>Open</th>\n",
       "      <th>High</th>\n",
       "      <th>Low</th>\n",
       "      <th>Vol</th>\n",
       "      <th>Change</th>\n",
       "      <th>Crypto</th>\n",
       "      <th>Year</th>\n",
       "      <th>Month</th>\n",
       "      <th>Day</th>\n",
       "    </tr>\n",
       "    <tr>\n",
       "      <th>Date</th>\n",
       "      <th></th>\n",
       "      <th></th>\n",
       "      <th></th>\n",
       "      <th></th>\n",
       "      <th></th>\n",
       "      <th></th>\n",
       "      <th></th>\n",
       "      <th></th>\n",
       "      <th></th>\n",
       "      <th></th>\n",
       "    </tr>\n",
       "  </thead>\n",
       "  <tbody>\n",
       "    <tr>\n",
       "      <th>2021-02-20</th>\n",
       "      <td>1.149122</td>\n",
       "      <td>0.925955</td>\n",
       "      <td>1.176955</td>\n",
       "      <td>0.914190</td>\n",
       "      <td>180000000000</td>\n",
       "      <td>24.11</td>\n",
       "      <td>ADA</td>\n",
       "      <td>2021</td>\n",
       "      <td>2</td>\n",
       "      <td>20</td>\n",
       "    </tr>\n",
       "    <tr>\n",
       "      <th>2021-02-19</th>\n",
       "      <td>0.925894</td>\n",
       "      <td>0.913695</td>\n",
       "      <td>0.945353</td>\n",
       "      <td>0.880769</td>\n",
       "      <td>83910000000</td>\n",
       "      <td>1.33</td>\n",
       "      <td>ADA</td>\n",
       "      <td>2021</td>\n",
       "      <td>2</td>\n",
       "      <td>19</td>\n",
       "    </tr>\n",
       "    <tr>\n",
       "      <th>2021-02-18</th>\n",
       "      <td>0.913752</td>\n",
       "      <td>0.891719</td>\n",
       "      <td>0.956599</td>\n",
       "      <td>0.891719</td>\n",
       "      <td>90468000000</td>\n",
       "      <td>2.47</td>\n",
       "      <td>ADA</td>\n",
       "      <td>2021</td>\n",
       "      <td>2</td>\n",
       "      <td>18</td>\n",
       "    </tr>\n",
       "    <tr>\n",
       "      <th>2021-02-17</th>\n",
       "      <td>0.891702</td>\n",
       "      <td>0.870390</td>\n",
       "      <td>0.897079</td>\n",
       "      <td>0.823855</td>\n",
       "      <td>75002000000</td>\n",
       "      <td>2.45</td>\n",
       "      <td>ADA</td>\n",
       "      <td>2021</td>\n",
       "      <td>2</td>\n",
       "      <td>17</td>\n",
       "    </tr>\n",
       "    <tr>\n",
       "      <th>2021-02-16</th>\n",
       "      <td>0.870393</td>\n",
       "      <td>0.859853</td>\n",
       "      <td>0.905065</td>\n",
       "      <td>0.834791</td>\n",
       "      <td>92987000000</td>\n",
       "      <td>1.19</td>\n",
       "      <td>ADA</td>\n",
       "      <td>2021</td>\n",
       "      <td>2</td>\n",
       "      <td>16</td>\n",
       "    </tr>\n",
       "  </tbody>\n",
       "</table>\n",
       "</div>"
      ],
      "text/plain": [
       "               Price      Open      High       Low           Vol Change  \\\n",
       "Date                                                                      \n",
       "2021-02-20  1.149122  0.925955  1.176955  0.914190  180000000000  24.11   \n",
       "2021-02-19  0.925894  0.913695  0.945353  0.880769   83910000000   1.33   \n",
       "2021-02-18  0.913752  0.891719  0.956599  0.891719   90468000000   2.47   \n",
       "2021-02-17  0.891702  0.870390  0.897079  0.823855   75002000000   2.45   \n",
       "2021-02-16  0.870393  0.859853  0.905065  0.834791   92987000000   1.19   \n",
       "\n",
       "           Crypto  Year  Month  Day  \n",
       "Date                                 \n",
       "2021-02-20    ADA  2021      2   20  \n",
       "2021-02-19    ADA  2021      2   19  \n",
       "2021-02-18    ADA  2021      2   18  \n",
       "2021-02-17    ADA  2021      2   17  \n",
       "2021-02-16    ADA  2021      2   16  "
      ]
     },
     "execution_count": 18,
     "metadata": {},
     "output_type": "execute_result"
    }
   ],
   "source": [
    "cardano_hst.head()"
   ]
  },
  {
   "cell_type": "code",
   "execution_count": 19,
   "id": "specific-stomach",
   "metadata": {},
   "outputs": [
    {
     "data": {
      "text/plain": [
       "Price     False\n",
       "Open      False\n",
       "High      False\n",
       "Low       False\n",
       "Vol       False\n",
       "Change    False\n",
       "Crypto    False\n",
       "Year      False\n",
       "Month     False\n",
       "Day       False\n",
       "dtype: bool"
      ]
     },
     "execution_count": 19,
     "metadata": {},
     "output_type": "execute_result"
    }
   ],
   "source": [
    "cardano_hst.isnull().any()"
   ]
  },
  {
   "cell_type": "markdown",
   "id": "cheap-cancellation",
   "metadata": {},
   "source": [
    "# 4 Data Analysis for ADA"
   ]
  },
  {
   "cell_type": "code",
   "execution_count": 20,
   "id": "cordless-joseph",
   "metadata": {},
   "outputs": [
    {
     "data": {
      "image/png": "[encoded data removed]",
      "text/plain": [
       "<Figure size 792x720 with 3 Axes>"
      ]
     },
     "metadata": {
      "needs_background": "light"
     },
     "output_type": "display_data"
    }
   ],
   "source": [
    "cardano_hst['Month'] = cardano_hst.index.month\n",
    "\n",
    "ig, axes = plt.subplots(3, 1, figsize=(11, 10), sharex=True)\n",
    "for name, ax in zip(['Price', 'High', 'Low'], axes):\n",
    "    sns.boxplot(data=cardano_hst, x='Month', y=name, ax=ax)\n",
    "    ax.set_ylabel('Dollars')\n",
    "    ax.set_title(name)\n",
    "    # Remove the automatic x-axis label from all but the bottom subplot\n",
    "    if ax != axes[-1]:\n",
    "        ax.set_xlabel('')"
   ]
  },
  {
   "cell_type": "code",
   "execution_count": 21,
   "id": "steady-campus",
   "metadata": {},
   "outputs": [
    {
     "data": {
      "image/png": "[encoded data removed]",
      "text/plain": [
       "<Figure size 792x720 with 3 Axes>"
      ]
     },
     "metadata": {
      "needs_background": "light"
     },
     "output_type": "display_data"
    }
   ],
   "source": [
    "bitcoin_hst = bitcoin_hst.set_index('Date')\n",
    "bitcoin_hst['Month'] = bitcoin_hst.index.month\n",
    "\n",
    "ig, axes = plt.subplots(3, 1, figsize=(11, 10), sharex=True)\n",
    "for name, ax in zip(['Price', 'High', 'Low'], axes):\n",
    "    sns.boxplot(data=bitcoin_hst, x='Month', y=name, ax=ax)\n",
    "    ax.set_ylabel('Dollars')\n",
    "    ax.set_title(name)\n",
    "    # Remove the automatic x-axis label from all but the bottom subplot\n",
    "    if ax != axes[-1]:\n",
    "        ax.set_xlabel('')"
   ]
  },
  {
   "cell_type": "markdown",
   "id": "handled-mortality",
   "metadata": {},
   "source": [
    "I am definitely not a trader or a broker but if I wanted to play some money on this I would probably earn more money on January, February, May and December for ADA and the same for BTC but November instead of May."
   ]
  },
  {
   "cell_type": "code",
   "execution_count": 22,
   "id": "fitted-collaboration",
   "metadata": {},
   "outputs": [
    {
     "data": {
      "text/plain": [
       "Price     float64\n",
       "Open      float64\n",
       "High      float64\n",
       "Low       float64\n",
       "Vol        object\n",
       "Change     object\n",
       "Crypto     object\n",
       "Year        int64\n",
       "Month       int64\n",
       "Day         int64\n",
       "dtype: object"
      ]
     },
     "execution_count": 22,
     "metadata": {},
     "output_type": "execute_result"
    }
   ],
   "source": [
    "cardano_hst.dtypes"
   ]
  },
  {
   "cell_type": "code",
   "execution_count": 23,
   "id": "exterior-chase",
   "metadata": {},
   "outputs": [
    {
     "name": "stdout",
     "output_type": "stream",
     "text": [
      "               Price      Open      High       Low Vol Change Crypto  Year  \\\n",
      "Date                                                                         \n",
      "2021-01-14  0.311028  0.312734  0.324066  0.298576   -  -0.55    ADA  2021   \n",
      "\n",
      "            Month  Day  \n",
      "Date                    \n",
      "2021-01-14      1   14  \n"
     ]
    }
   ],
   "source": [
    "print (cardano_hst[pd.to_numeric(cardano_hst.Vol, errors='coerce').isnull()])"
   ]
  },
  {
   "cell_type": "code",
   "execution_count": 24,
   "id": "polish-spotlight",
   "metadata": {},
   "outputs": [],
   "source": [
    "cardano_hst = cardano_hst[~cardano_hst.Vol.str.contains(\"-\")]"
   ]
  },
  {
   "cell_type": "code",
   "execution_count": 25,
   "id": "recreational-criterion",
   "metadata": {},
   "outputs": [
    {
     "name": "stdout",
     "output_type": "stream",
     "text": [
      "Empty DataFrame\n",
      "Columns: [Price, Open, High, Low, Vol, Change, Crypto, Year, Month, Day]\n",
      "Index: []\n"
     ]
    }
   ],
   "source": [
    "print (cardano_hst[pd.to_numeric(cardano_hst.Change, errors='coerce').isnull()])"
   ]
  },
  {
   "cell_type": "code",
   "execution_count": 26,
   "id": "convinced-aquarium",
   "metadata": {},
   "outputs": [],
   "source": [
    "cardano_hst.loc['Vol'] = pd.to_numeric(cardano_hst['Vol'])\n",
    "cardano_hst.loc['Change'] = pd.to_numeric(cardano_hst['Change'])"
   ]
  },
  {
   "cell_type": "code",
   "execution_count": 27,
   "id": "cardiac-mystery",
   "metadata": {},
   "outputs": [
    {
     "data": {
      "text/plain": [
       "Price     float64\n",
       "Open      float64\n",
       "High      float64\n",
       "Low       float64\n",
       "Vol        object\n",
       "Change     object\n",
       "Crypto     object\n",
       "Year      float64\n",
       "Month     float64\n",
       "Day       float64\n",
       "dtype: object"
      ]
     },
     "execution_count": 27,
     "metadata": {},
     "output_type": "execute_result"
    }
   ],
   "source": [
    "cardano_hst.dtypes"
   ]
  },
  {
   "cell_type": "code",
   "execution_count": 28,
   "id": "medium-bargain",
   "metadata": {},
   "outputs": [
    {
     "data": {
      "text/plain": [
       "High     0.994051\n",
       "Low      0.990196\n",
       "Open     0.984712\n",
       "Month    0.133492\n",
       "Year     0.003404\n",
       "Day      0.002516\n",
       "Name: Price, dtype: float64"
      ]
     },
     "execution_count": 28,
     "metadata": {},
     "output_type": "execute_result"
    }
   ],
   "source": [
    "(cardano_hst.corr()**2)[\"Price\"].sort_values(ascending = False)[1:]"
   ]
  },
  {
   "cell_type": "code",
   "execution_count": 29,
   "id": "comprehensive-colorado",
   "metadata": {},
   "outputs": [],
   "source": [
    "def customized_scatterplot(y, x):\n",
    "        ## Sizing the plot. \n",
    "    #style.use('fivethirtyeight')\n",
    "    plt.subplots(figsize = (12,8))\n",
    "    ## Plotting target variable with predictor variable(OverallQual)\n",
    "    sns.scatterplot(y = y, x = x);"
   ]
  },
  {
   "cell_type": "code",
   "execution_count": 30,
   "id": "focused-manchester",
   "metadata": {},
   "outputs": [
    {
     "data": {
      "image/png": "[encoded data removed]",
      "text/plain": [
       "<Figure size 864x576 with 1 Axes>"
      ]
     },
     "metadata": {
      "needs_background": "light"
     },
     "output_type": "display_data"
    }
   ],
   "source": [
    "customized_scatterplot(cardano_hst.Price, cardano_hst.Month)"
   ]
  },
  {
   "cell_type": "markdown",
   "id": "adopted-audio",
   "metadata": {},
   "source": [
    "\"Month\" is a categorical variable, and a scatter plot is not the best way to visualize categorical variables. However, there is an apparent relationship between the two features. The \"Price\" of ADA decreases along the year. Let's check out some more features to determine the outliers."
   ]
  },
  {
   "cell_type": "markdown",
   "id": "distributed-desert",
   "metadata": {},
   "source": [
    "# 4 Feature Engineering"
   ]
  },
  {
   "cell_type": "markdown",
   "id": "first-native",
   "metadata": {},
   "source": [
    "I want to keep the \"Month\" attribute onto the training dataset so I'll convert it into dummy indicator/variable"
   ]
  },
  {
   "cell_type": "code",
   "execution_count": 31,
   "id": "adapted-purpose",
   "metadata": {},
   "outputs": [],
   "source": [
    "# Read the data\n",
    "train = cardano_hst"
   ]
  },
  {
   "cell_type": "code",
   "execution_count": 32,
   "id": "cross-niger",
   "metadata": {},
   "outputs": [
    {
     "data": {
      "text/html": [
       "<div>\n",
       "<style scoped>\n",
       "    .dataframe tbody tr th:only-of-type {\n",
       "        vertical-align: middle;\n",
       "    }\n",
       "\n",
       "    .dataframe tbody tr th {\n",
       "        vertical-align: top;\n",
       "    }\n",
       "\n",
       "    .dataframe thead th {\n",
       "        text-align: right;\n",
       "    }\n",
       "</style>\n",
       "<table border=\"1\" class=\"dataframe\">\n",
       "  <thead>\n",
       "    <tr style=\"text-align: right;\">\n",
       "      <th></th>\n",
       "      <th>Price</th>\n",
       "      <th>Open</th>\n",
       "      <th>High</th>\n",
       "      <th>Low</th>\n",
       "      <th>Vol</th>\n",
       "      <th>Change</th>\n",
       "      <th>Crypto</th>\n",
       "      <th>Year</th>\n",
       "      <th>Month</th>\n",
       "      <th>Day</th>\n",
       "    </tr>\n",
       "    <tr>\n",
       "      <th>Date</th>\n",
       "      <th></th>\n",
       "      <th></th>\n",
       "      <th></th>\n",
       "      <th></th>\n",
       "      <th></th>\n",
       "      <th></th>\n",
       "      <th></th>\n",
       "      <th></th>\n",
       "      <th></th>\n",
       "      <th></th>\n",
       "    </tr>\n",
       "  </thead>\n",
       "  <tbody>\n",
       "    <tr>\n",
       "      <th>2021-02-20 00:00:00</th>\n",
       "      <td>1.149122</td>\n",
       "      <td>0.925955</td>\n",
       "      <td>1.176955</td>\n",
       "      <td>0.914190</td>\n",
       "      <td>180000000000</td>\n",
       "      <td>24.11</td>\n",
       "      <td>ADA</td>\n",
       "      <td>2021.0</td>\n",
       "      <td>2.0</td>\n",
       "      <td>20.0</td>\n",
       "    </tr>\n",
       "    <tr>\n",
       "      <th>2021-02-19 00:00:00</th>\n",
       "      <td>0.925894</td>\n",
       "      <td>0.913695</td>\n",
       "      <td>0.945353</td>\n",
       "      <td>0.880769</td>\n",
       "      <td>83910000000</td>\n",
       "      <td>1.33</td>\n",
       "      <td>ADA</td>\n",
       "      <td>2021.0</td>\n",
       "      <td>2.0</td>\n",
       "      <td>19.0</td>\n",
       "    </tr>\n",
       "    <tr>\n",
       "      <th>2021-02-18 00:00:00</th>\n",
       "      <td>0.913752</td>\n",
       "      <td>0.891719</td>\n",
       "      <td>0.956599</td>\n",
       "      <td>0.891719</td>\n",
       "      <td>90468000000</td>\n",
       "      <td>2.47</td>\n",
       "      <td>ADA</td>\n",
       "      <td>2021.0</td>\n",
       "      <td>2.0</td>\n",
       "      <td>18.0</td>\n",
       "    </tr>\n",
       "    <tr>\n",
       "      <th>2021-02-17 00:00:00</th>\n",
       "      <td>0.891702</td>\n",
       "      <td>0.870390</td>\n",
       "      <td>0.897079</td>\n",
       "      <td>0.823855</td>\n",
       "      <td>75002000000</td>\n",
       "      <td>2.45</td>\n",
       "      <td>ADA</td>\n",
       "      <td>2021.0</td>\n",
       "      <td>2.0</td>\n",
       "      <td>17.0</td>\n",
       "    </tr>\n",
       "    <tr>\n",
       "      <th>2021-02-16 00:00:00</th>\n",
       "      <td>0.870393</td>\n",
       "      <td>0.859853</td>\n",
       "      <td>0.905065</td>\n",
       "      <td>0.834791</td>\n",
       "      <td>92987000000</td>\n",
       "      <td>1.19</td>\n",
       "      <td>ADA</td>\n",
       "      <td>2021.0</td>\n",
       "      <td>2.0</td>\n",
       "      <td>16.0</td>\n",
       "    </tr>\n",
       "  </tbody>\n",
       "</table>\n",
       "</div>"
      ],
      "text/plain": [
       "                        Price      Open      High       Low           Vol  \\\n",
       "Date                                                                        \n",
       "2021-02-20 00:00:00  1.149122  0.925955  1.176955  0.914190  180000000000   \n",
       "2021-02-19 00:00:00  0.925894  0.913695  0.945353  0.880769   83910000000   \n",
       "2021-02-18 00:00:00  0.913752  0.891719  0.956599  0.891719   90468000000   \n",
       "2021-02-17 00:00:00  0.891702  0.870390  0.897079  0.823855   75002000000   \n",
       "2021-02-16 00:00:00  0.870393  0.859853  0.905065  0.834791   92987000000   \n",
       "\n",
       "                    Change Crypto    Year  Month   Day  \n",
       "Date                                                    \n",
       "2021-02-20 00:00:00  24.11    ADA  2021.0    2.0  20.0  \n",
       "2021-02-19 00:00:00   1.33    ADA  2021.0    2.0  19.0  \n",
       "2021-02-18 00:00:00   2.47    ADA  2021.0    2.0  18.0  \n",
       "2021-02-17 00:00:00   2.45    ADA  2021.0    2.0  17.0  \n",
       "2021-02-16 00:00:00   1.19    ADA  2021.0    2.0  16.0  "
      ]
     },
     "execution_count": 32,
     "metadata": {},
     "output_type": "execute_result"
    }
   ],
   "source": [
    "train.head()"
   ]
  },
  {
   "cell_type": "code",
   "execution_count": 33,
   "id": "dominant-literature",
   "metadata": {},
   "outputs": [],
   "source": [
    "dummy = pd.get_dummies(train['Month'])"
   ]
  },
  {
   "cell_type": "code",
   "execution_count": 34,
   "id": "floating-smoke",
   "metadata": {},
   "outputs": [
    {
     "data": {
      "text/html": [
       "<div>\n",
       "<style scoped>\n",
       "    .dataframe tbody tr th:only-of-type {\n",
       "        vertical-align: middle;\n",
       "    }\n",
       "\n",
       "    .dataframe tbody tr th {\n",
       "        vertical-align: top;\n",
       "    }\n",
       "\n",
       "    .dataframe thead th {\n",
       "        text-align: right;\n",
       "    }\n",
       "</style>\n",
       "<table border=\"1\" class=\"dataframe\">\n",
       "  <thead>\n",
       "    <tr style=\"text-align: right;\">\n",
       "      <th></th>\n",
       "      <th>Price</th>\n",
       "      <th>Open</th>\n",
       "      <th>High</th>\n",
       "      <th>Low</th>\n",
       "      <th>Vol</th>\n",
       "      <th>Change</th>\n",
       "      <th>Crypto</th>\n",
       "      <th>Year</th>\n",
       "      <th>Month</th>\n",
       "      <th>Day</th>\n",
       "      <th>...</th>\n",
       "      <th>3.0</th>\n",
       "      <th>4.0</th>\n",
       "      <th>5.0</th>\n",
       "      <th>6.0</th>\n",
       "      <th>7.0</th>\n",
       "      <th>8.0</th>\n",
       "      <th>9.0</th>\n",
       "      <th>10.0</th>\n",
       "      <th>11.0</th>\n",
       "      <th>12.0</th>\n",
       "    </tr>\n",
       "    <tr>\n",
       "      <th>Date</th>\n",
       "      <th></th>\n",
       "      <th></th>\n",
       "      <th></th>\n",
       "      <th></th>\n",
       "      <th></th>\n",
       "      <th></th>\n",
       "      <th></th>\n",
       "      <th></th>\n",
       "      <th></th>\n",
       "      <th></th>\n",
       "      <th></th>\n",
       "      <th></th>\n",
       "      <th></th>\n",
       "      <th></th>\n",
       "      <th></th>\n",
       "      <th></th>\n",
       "      <th></th>\n",
       "      <th></th>\n",
       "      <th></th>\n",
       "      <th></th>\n",
       "      <th></th>\n",
       "    </tr>\n",
       "  </thead>\n",
       "  <tbody>\n",
       "    <tr>\n",
       "      <th>2021-02-20 00:00:00</th>\n",
       "      <td>1.149122</td>\n",
       "      <td>0.925955</td>\n",
       "      <td>1.176955</td>\n",
       "      <td>0.914190</td>\n",
       "      <td>180000000000</td>\n",
       "      <td>24.11</td>\n",
       "      <td>ADA</td>\n",
       "      <td>2021.0</td>\n",
       "      <td>2.0</td>\n",
       "      <td>20.0</td>\n",
       "      <td>...</td>\n",
       "      <td>0</td>\n",
       "      <td>0</td>\n",
       "      <td>0</td>\n",
       "      <td>0</td>\n",
       "      <td>0</td>\n",
       "      <td>0</td>\n",
       "      <td>0</td>\n",
       "      <td>0</td>\n",
       "      <td>0</td>\n",
       "      <td>0</td>\n",
       "    </tr>\n",
       "    <tr>\n",
       "      <th>2021-02-19 00:00:00</th>\n",
       "      <td>0.925894</td>\n",
       "      <td>0.913695</td>\n",
       "      <td>0.945353</td>\n",
       "      <td>0.880769</td>\n",
       "      <td>83910000000</td>\n",
       "      <td>1.33</td>\n",
       "      <td>ADA</td>\n",
       "      <td>2021.0</td>\n",
       "      <td>2.0</td>\n",
       "      <td>19.0</td>\n",
       "      <td>...</td>\n",
       "      <td>0</td>\n",
       "      <td>0</td>\n",
       "      <td>0</td>\n",
       "      <td>0</td>\n",
       "      <td>0</td>\n",
       "      <td>0</td>\n",
       "      <td>0</td>\n",
       "      <td>0</td>\n",
       "      <td>0</td>\n",
       "      <td>0</td>\n",
       "    </tr>\n",
       "    <tr>\n",
       "      <th>2021-02-18 00:00:00</th>\n",
       "      <td>0.913752</td>\n",
       "      <td>0.891719</td>\n",
       "      <td>0.956599</td>\n",
       "      <td>0.891719</td>\n",
       "      <td>90468000000</td>\n",
       "      <td>2.47</td>\n",
       "      <td>ADA</td>\n",
       "      <td>2021.0</td>\n",
       "      <td>2.0</td>\n",
       "      <td>18.0</td>\n",
       "      <td>...</td>\n",
       "      <td>0</td>\n",
       "      <td>0</td>\n",
       "      <td>0</td>\n",
       "      <td>0</td>\n",
       "      <td>0</td>\n",
       "      <td>0</td>\n",
       "      <td>0</td>\n",
       "      <td>0</td>\n",
       "      <td>0</td>\n",
       "      <td>0</td>\n",
       "    </tr>\n",
       "    <tr>\n",
       "      <th>2021-02-17 00:00:00</th>\n",
       "      <td>0.891702</td>\n",
       "      <td>0.870390</td>\n",
       "      <td>0.897079</td>\n",
       "      <td>0.823855</td>\n",
       "      <td>75002000000</td>\n",
       "      <td>2.45</td>\n",
       "      <td>ADA</td>\n",
       "      <td>2021.0</td>\n",
       "      <td>2.0</td>\n",
       "      <td>17.0</td>\n",
       "      <td>...</td>\n",
       "      <td>0</td>\n",
       "      <td>0</td>\n",
       "      <td>0</td>\n",
       "      <td>0</td>\n",
       "      <td>0</td>\n",
       "      <td>0</td>\n",
       "      <td>0</td>\n",
       "      <td>0</td>\n",
       "      <td>0</td>\n",
       "      <td>0</td>\n",
       "    </tr>\n",
       "    <tr>\n",
       "      <th>2021-02-16 00:00:00</th>\n",
       "      <td>0.870393</td>\n",
       "      <td>0.859853</td>\n",
       "      <td>0.905065</td>\n",
       "      <td>0.834791</td>\n",
       "      <td>92987000000</td>\n",
       "      <td>1.19</td>\n",
       "      <td>ADA</td>\n",
       "      <td>2021.0</td>\n",
       "      <td>2.0</td>\n",
       "      <td>16.0</td>\n",
       "      <td>...</td>\n",
       "      <td>0</td>\n",
       "      <td>0</td>\n",
       "      <td>0</td>\n",
       "      <td>0</td>\n",
       "      <td>0</td>\n",
       "      <td>0</td>\n",
       "      <td>0</td>\n",
       "      <td>0</td>\n",
       "      <td>0</td>\n",
       "      <td>0</td>\n",
       "    </tr>\n",
       "  </tbody>\n",
       "</table>\n",
       "<p>5 rows × 22 columns</p>\n",
       "</div>"
      ],
      "text/plain": [
       "                        Price      Open      High       Low           Vol  \\\n",
       "Date                                                                        \n",
       "2021-02-20 00:00:00  1.149122  0.925955  1.176955  0.914190  180000000000   \n",
       "2021-02-19 00:00:00  0.925894  0.913695  0.945353  0.880769   83910000000   \n",
       "2021-02-18 00:00:00  0.913752  0.891719  0.956599  0.891719   90468000000   \n",
       "2021-02-17 00:00:00  0.891702  0.870390  0.897079  0.823855   75002000000   \n",
       "2021-02-16 00:00:00  0.870393  0.859853  0.905065  0.834791   92987000000   \n",
       "\n",
       "                    Change Crypto    Year  Month   Day  ...  3.0  4.0  5.0  \\\n",
       "Date                                                    ...                  \n",
       "2021-02-20 00:00:00  24.11    ADA  2021.0    2.0  20.0  ...    0    0    0   \n",
       "2021-02-19 00:00:00   1.33    ADA  2021.0    2.0  19.0  ...    0    0    0   \n",
       "2021-02-18 00:00:00   2.47    ADA  2021.0    2.0  18.0  ...    0    0    0   \n",
       "2021-02-17 00:00:00   2.45    ADA  2021.0    2.0  17.0  ...    0    0    0   \n",
       "2021-02-16 00:00:00   1.19    ADA  2021.0    2.0  16.0  ...    0    0    0   \n",
       "\n",
       "                     6.0  7.0  8.0  9.0  10.0  11.0  12.0  \n",
       "Date                                                       \n",
       "2021-02-20 00:00:00    0    0    0    0     0     0     0  \n",
       "2021-02-19 00:00:00    0    0    0    0     0     0     0  \n",
       "2021-02-18 00:00:00    0    0    0    0     0     0     0  \n",
       "2021-02-17 00:00:00    0    0    0    0     0     0     0  \n",
       "2021-02-16 00:00:00    0    0    0    0     0     0     0  \n",
       "\n",
       "[5 rows x 22 columns]"
      ]
     },
     "execution_count": 34,
     "metadata": {},
     "output_type": "execute_result"
    }
   ],
   "source": [
    "train = pd.concat([train, dummy], axis=1)\n",
    "train.head()"
   ]
  },
  {
   "cell_type": "code",
   "execution_count": 35,
   "id": "skilled-museum",
   "metadata": {},
   "outputs": [
    {
     "name": "stdout",
     "output_type": "stream",
     "text": [
      "Index([ 'Price',   'Open',   'High',    'Low',    'Vol', 'Change', 'Crypto',\n",
      "         'Year',  'Month',    'Day',      1.0,      2.0,      3.0,      4.0,\n",
      "            5.0,      6.0,      7.0,      8.0,      9.0,     10.0,     11.0,\n",
      "           12.0],\n",
      "      dtype='object')\n"
     ]
    }
   ],
   "source": [
    "print(train.columns)"
   ]
  },
  {
   "cell_type": "markdown",
   "id": "frequent-piece",
   "metadata": {},
   "source": [
    "Check for null rows values"
   ]
  },
  {
   "cell_type": "code",
   "execution_count": 36,
   "id": "hidden-nicaragua",
   "metadata": {},
   "outputs": [
    {
     "data": {
      "text/plain": [
       "True"
      ]
     },
     "execution_count": 36,
     "metadata": {},
     "output_type": "execute_result"
    }
   ],
   "source": [
    "train['Open'].isnull().values.any()"
   ]
  },
  {
   "cell_type": "code",
   "execution_count": 84,
   "id": "virtual-moscow",
   "metadata": {},
   "outputs": [],
   "source": [
    "#train['Low'].isnull().sum()"
   ]
  },
  {
   "cell_type": "code",
   "execution_count": 38,
   "id": "hidden-accounting",
   "metadata": {},
   "outputs": [
    {
     "data": {
      "text/plain": [
       "20"
      ]
     },
     "execution_count": 38,
     "metadata": {},
     "output_type": "execute_result"
    }
   ],
   "source": [
    "train.isnull().sum().sum()"
   ]
  },
  {
   "cell_type": "code",
   "execution_count": 39,
   "id": "vocal-midnight",
   "metadata": {},
   "outputs": [],
   "source": [
    "train = train.dropna()"
   ]
  },
  {
   "cell_type": "code",
   "execution_count": null,
   "id": "dying-model",
   "metadata": {},
   "outputs": [],
   "source": []
  },
  {
   "cell_type": "markdown",
   "id": "unlike-velvet",
   "metadata": {},
   "source": [
    "# 5 Time Series Forecasting using LinearRegression"
   ]
  },
  {
   "cell_type": "markdown",
   "id": "hungarian-china",
   "metadata": {},
   "source": [
    "In statistics, linear regression is a linear approach to modelling the relationship between a scalar response and one or more explanatory variables (also known as dependent and independent variables). The case of one explanatory variable is called simple linear regression; for more than one, the process is called multiple linear regression. [https://en.wikipedia.org/wiki/Linear_regression]\n",
    "\n",
    "In this first approach we just want to build a model with one predictor (simple). The most signifficant one is \"Open\" so lets have a look!"
   ]
  },
  {
   "cell_type": "code",
   "execution_count": 85,
   "id": "elementary-apollo",
   "metadata": {},
   "outputs": [],
   "source": [
    "y = train.Price\n",
    "predictor_col = ['Open']\n",
    "\n",
    "# Create training predictors data\n",
    "X = train[predictor_col]"
   ]
  },
  {
   "cell_type": "code",
   "execution_count": 86,
   "id": "japanese-clothing",
   "metadata": {},
   "outputs": [
    {
     "data": {
      "text/html": [
       "<div>\n",
       "<style scoped>\n",
       "    .dataframe tbody tr th:only-of-type {\n",
       "        vertical-align: middle;\n",
       "    }\n",
       "\n",
       "    .dataframe tbody tr th {\n",
       "        vertical-align: top;\n",
       "    }\n",
       "\n",
       "    .dataframe thead th {\n",
       "        text-align: right;\n",
       "    }\n",
       "</style>\n",
       "<table border=\"1\" class=\"dataframe\">\n",
       "  <thead>\n",
       "    <tr style=\"text-align: right;\">\n",
       "      <th></th>\n",
       "      <th>Open</th>\n",
       "    </tr>\n",
       "    <tr>\n",
       "      <th>Date</th>\n",
       "      <th></th>\n",
       "    </tr>\n",
       "  </thead>\n",
       "  <tbody>\n",
       "    <tr>\n",
       "      <th>2021-02-20 00:00:00</th>\n",
       "      <td>0.925955</td>\n",
       "    </tr>\n",
       "    <tr>\n",
       "      <th>2021-02-19 00:00:00</th>\n",
       "      <td>0.913695</td>\n",
       "    </tr>\n",
       "    <tr>\n",
       "      <th>2021-02-18 00:00:00</th>\n",
       "      <td>0.891719</td>\n",
       "    </tr>\n",
       "    <tr>\n",
       "      <th>2021-02-17 00:00:00</th>\n",
       "      <td>0.870390</td>\n",
       "    </tr>\n",
       "    <tr>\n",
       "      <th>2021-02-16 00:00:00</th>\n",
       "      <td>0.859853</td>\n",
       "    </tr>\n",
       "  </tbody>\n",
       "</table>\n",
       "</div>"
      ],
      "text/plain": [
       "                         Open\n",
       "Date                         \n",
       "2021-02-20 00:00:00  0.925955\n",
       "2021-02-19 00:00:00  0.913695\n",
       "2021-02-18 00:00:00  0.891719\n",
       "2021-02-17 00:00:00  0.870390\n",
       "2021-02-16 00:00:00  0.859853"
      ]
     },
     "execution_count": 86,
     "metadata": {},
     "output_type": "execute_result"
    }
   ],
   "source": [
    "X.head()"
   ]
  },
  {
   "cell_type": "code",
   "execution_count": 87,
   "id": "listed-bankruptcy",
   "metadata": {},
   "outputs": [],
   "source": [
    "from sklearn.model_selection import train_test_split\n",
    "X_train, X_test, y_train, y_test = train_test_split(X, y,test_size = .25, random_state =33)"
   ]
  },
  {
   "cell_type": "code",
   "execution_count": 88,
   "id": "dominant-underground",
   "metadata": {},
   "outputs": [],
   "source": [
    "from sklearn.linear_model import LinearRegression\n",
    "from sklearn.metrics import mean_squared_error, mean_absolute_error\n",
    "\n",
    "## Call in the LinearRegression object\n",
    "lin_reg = LinearRegression(normalize=True, n_jobs=-1)\n",
    "## fit train and test data. \n",
    "lin_reg.fit(X_train, y_train)\n",
    "## Predict test data. \n",
    "y_pred = lin_reg.predict(X_test)\n",
    "#y_pred = lin_reg.predict(X_test)"
   ]
  },
  {
   "cell_type": "code",
   "execution_count": 91,
   "id": "recovered-intensity",
   "metadata": {},
   "outputs": [
    {
     "name": "stdout",
     "output_type": "stream",
     "text": [
      "Mean squared error: 0.00\n",
      "Coefficient of determination: 0.99\n",
      "Train accuracy: 0.98\n",
      "Test accuracy: 0.99\n"
     ]
    }
   ],
   "source": [
    "from sklearn.metrics import mean_squared_error, r2_score\n",
    "\n",
    "# The mean squared error\n",
    "print('Mean squared error: %.2f'\n",
    "      % mean_squared_error(y_test, y_pred).round(4))\n",
    "# The coefficient of determination: 1 is perfect prediction\n",
    "print('Coefficient of determination: %.2f'\n",
    "      % r2_score(y_test, y_pred).round(4))\n",
    "print('Train accuracy: %.2f'\n",
    "      % lin_reg.score(X_train, y_train).round(4))\n",
    "print('Test accuracy: %.2f'\n",
    "      % lin_reg.score(X_test, y_test).round(4))"
   ]
  },
  {
   "cell_type": "code",
   "execution_count": 92,
   "id": "combined-pulse",
   "metadata": {},
   "outputs": [
    {
     "data": {
      "image/png": "[encoded data removed]",
      "text/plain": [
       "<Figure size 432x288 with 1 Axes>"
      ]
     },
     "metadata": {
      "needs_background": "light"
     },
     "output_type": "display_data"
    }
   ],
   "source": [
    "# Plot outputs\n",
    "plt.plot(X.Open, y.values,'.')\n",
    "plt.plot(X.Open, lin_reg.predict(X),'-')\n",
    "plt.show()"
   ]
  },
  {
   "cell_type": "markdown",
   "id": "peripheral-assessment",
   "metadata": {},
   "source": [
    "The model predictions are pretty accurate"
   ]
  },
  {
   "cell_type": "markdown",
   "id": "documented-ebony",
   "metadata": {},
   "source": [
    "# 5 Time Series Forecasting using Ridge"
   ]
  },
  {
   "cell_type": "code",
   "execution_count": null,
   "id": "nasty-spray",
   "metadata": {},
   "outputs": [],
   "source": [
    "# pull data into target (y) and predictors (X)\n",
    "y = train.Price\n",
    "predictor_cols = ['Open']#, 'High', 'Low', 1.0, 2.0, 3.0, 4.0, 5.0, 6.0, 7.0, 8.0, 9.0, 10.0, 11.0, 12.0]\n",
    "\n",
    "# Create training predictors data\n",
    "X = train[predictor_cols]\n",
    "\n",
    "#my_model = RandomForestRegressor()\n",
    "#my_model.fit(train_X, train_y)"
   ]
  },
  {
   "cell_type": "code",
   "execution_count": null,
   "id": "durable-charlotte",
   "metadata": {},
   "outputs": [],
   "source": [
    "#plt3d = plt.figure().gca(projection='3d')\n",
    "#plt3d.view_init(azim=5)\n",
    "#plt3d.plot_trisurf(X['Open'].values, X['High'].values, lin_reg.predict(X), alpha=0.7, antialiased=True)"
   ]
  },
  {
   "cell_type": "markdown",
   "id": "revised-television",
   "metadata": {},
   "source": [
    "This model solves a regression model where the loss function is the linear least squares function and regularization is given by the l2-norm. Also known as Ridge Regression or Tikhonov regularization. This estimator has built-in support for multi-variate regression (i.e., when y is a 2d-array of shape (n_samples, n_targets))."
   ]
  },
  {
   "cell_type": "markdown",
   "id": "cloudy-light",
   "metadata": {},
   "source": [
    "Linear least squares with l2 regularization.\n",
    "\n",
    "Minimizes the objective function:\n",
    "\n",
    "||y - Xw||^2_2 + alpha * ||w||^2_2"
   ]
  },
  {
   "cell_type": "code",
   "execution_count": 149,
   "id": "random-celebration",
   "metadata": {},
   "outputs": [],
   "source": [
    "from sklearn.linear_model import Ridge\n",
    "\n",
    "clf = Ridge(alpha=1.0)\n",
    "## fit train and test data. \n",
    "clf.fit(X_train, y_train)\n",
    "## Predict test data. \n",
    "y_pred_ridge = clf.predict(X_test)"
   ]
  },
  {
   "cell_type": "code",
   "execution_count": 154,
   "id": "binding-india",
   "metadata": {},
   "outputs": [],
   "source": [
    "from sklearn.ensemble import RandomForestRegressor"
   ]
  },
  {
   "cell_type": "code",
   "execution_count": null,
   "id": "recognized-liability",
   "metadata": {},
   "outputs": [],
   "source": []
  }
 ],
 "metadata": {
  "kernelspec": {
   "display_name": "Python [conda env:GonzaloTorres] *",
   "language": "python",
   "name": "conda-env-GonzaloTorres-py"
  },
  "language_info": {
   "codemirror_mode": {
    "name": "ipython",
    "version": 3
   },
   "file_extension": ".py",
   "mimetype": "text/x-python",
   "name": "python",
   "nbconvert_exporter": "python",
   "pygments_lexer": "ipython3",
   "version": "3.8.5"
  }
 },
 "nbformat": 4,
 "nbformat_minor": 5
}
